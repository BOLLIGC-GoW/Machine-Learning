{
 "cells": [
  {
   "cell_type": "markdown",
   "metadata": {
    "deletable": true,
    "editable": true
   },
   "source": [
    "## ELEC-4800 (Special Topics - Machine Learning)\n",
    "## Course Project\n",
    "## Group: William Naslund, Charles Bollig, Jackson Osborn\n",
    "\n",
    "For our course project we analyze a Residential Energy Consumption Survey (RECS), taken in 2009. We want to determine which features have the most influence on the energy usage of a home. There are 841 total features in our chosen dataset. We are going to find the 10 most influential features that contribute to total electricity usage in homes given this dataset."
   ]
  },
  {
   "cell_type": "code",
   "execution_count": 1,
   "metadata": {
    "collapsed": false,
    "deletable": true,
    "editable": true
   },
   "outputs": [],
   "source": [
    "from pandas import read_csv\n",
    "import sklearn\n",
    "from sklearn.feature_selection import SelectKBest, mutual_info_regression, chi2, mutual_info_classif, f_classif\n",
    "from sklearn.model_selection import train_test_split\n",
    "from sklearn.preprocessing import LabelEncoder, binarize\n",
    "from sklearn.naive_bayes import MultinomialNB\n",
    "from sklearn.tree import DecisionTreeClassifier\n",
    "from sklearn.neighbors import KNeighborsClassifier\n",
    "from sklearn.svm import SVC\n",
    "import numpy as np\n",
    "\n",
    "%matplotlib inline\n",
    "import matplotlib.pyplot as plt\n"
   ]
  },
  {
   "cell_type": "markdown",
   "metadata": {
    "deletable": true,
    "editable": true
   },
   "source": [
    "## Load the Data\n",
    "The dataset we are using is available at [https://www.eia.gov/consumption/residential/data/2009/](https://www.eia.gov/consumption/residential/data/2009/index.php?view=microdata).\n",
    "Under the \"microdata\" tab we need the dataset as a CSV.\n",
    "We also load the layout file which describes the features to only keep the numeric columns."
   ]
  },
  {
   "cell_type": "code",
   "execution_count": 2,
   "metadata": {
    "collapsed": false,
    "deletable": true,
    "editable": true
   },
   "outputs": [],
   "source": [
    "# layout is the layout data\n",
    "layout = read_csv('data/public_layout.csv')\n",
    "\n",
    "# numericColumns\n",
    "numericColumns = layout[layout['Variable Type'] == 'Numeric']['Variable Name']"
   ]
  },
  {
   "cell_type": "code",
   "execution_count": 3,
   "metadata": {
    "collapsed": false,
    "deletable": true,
    "editable": true
   },
   "outputs": [
    {
     "name": "stdout",
     "output_type": "stream",
     "text": [
      "Mean Electricity Usage: 11288 kWh\n",
      "Median Electricity Usage: 9623 kWh\n"
     ]
    }
   ],
   "source": [
    "# dataPath is the path to the CSV file.\n",
    "dataPath = 'data/recs2009_public.csv'\n",
    "\n",
    "# fullData is the pandas Dataframe instance containing our data.\n",
    "fullData = read_csv(dataPath, usecols=numericColumns)\n",
    "\n",
    "print('Mean Electricity Usage: %d kWh' % fullData.KWH.mean())\n",
    "print('Median Electricity Usage: %d kWh' % fullData.KWH.median())"
   ]
  },
  {
   "cell_type": "markdown",
   "metadata": {
    "deletable": true,
    "editable": true
   },
   "source": [
    "There are a few rows that contain invalid or non-finite numbers, we are ignoring those since there are very few of them."
   ]
  },
  {
   "cell_type": "code",
   "execution_count": 4,
   "metadata": {
    "collapsed": false,
    "deletable": true,
    "editable": true
   },
   "outputs": [
    {
     "data": {
      "text/plain": [
       "True"
      ]
     },
     "execution_count": 4,
     "metadata": {},
     "output_type": "execute_result"
    }
   ],
   "source": [
    "# Remove non-finite rows\n",
    "nonFiniteRows = np.where(np.isfinite(fullData.as_matrix()) == False)[0]\n",
    "fullData = fullData.drop(fullData.index[nonFiniteRows])\n",
    "\n",
    "np.isfinite(fullData.as_matrix()).all()"
   ]
  },
  {
   "cell_type": "code",
   "execution_count": 5,
   "metadata": {
    "collapsed": false,
    "deletable": true,
    "editable": true
   },
   "outputs": [],
   "source": [
    "# Add classes based on every 1000 kWh of electrical energy consumption\n",
    "kwhClass = np.round(fullData.KWH / 10000)\n",
    "\n",
    "# Create labels for each bucket of 1000 kWh using a LabelEncoder\n",
    "classEncoder = LabelEncoder()\n",
    "classEncoder.fit(kwhClass)\n",
    "#y = classEncoder.transform(kwhClass)\n",
    "y = binarize([fullData.KWH], threshold=fullData.KWH.median())[0]"
   ]
  },
  {
   "cell_type": "markdown",
   "metadata": {
    "deletable": true,
    "editable": true
   },
   "source": [
    "And we want to predict the electrical energy usage in kWh so we extract and remove that column from the data.\n",
    "Additionally, we remove any total energy consumption values since we want to predict electrical energy consumption before it has actually been consumed (so the totals are not yet known)."
   ]
  },
  {
   "cell_type": "code",
   "execution_count": 6,
   "metadata": {
    "collapsed": false,
    "deletable": true,
    "editable": true
   },
   "outputs": [],
   "source": [
    "del fullData['KWH']\n",
    "del fullData['NWEIGHT']\n",
    "for feature in layout['Variable Name'][840:919]:\n",
    "    del fullData[feature]"
   ]
  },
  {
   "cell_type": "code",
   "execution_count": 7,
   "metadata": {
    "collapsed": true,
    "deletable": true,
    "editable": true
   },
   "outputs": [],
   "source": [
    "fullData[fullData < 0] = 0"
   ]
  },
  {
   "cell_type": "code",
   "execution_count": 8,
   "metadata": {
    "collapsed": false,
    "deletable": true,
    "editable": true
   },
   "outputs": [],
   "source": [
    "# Split into training and testing set\n",
    "trainData, testData, yTrain, yTest = train_test_split(fullData, y, train_size=0.2)"
   ]
  },
  {
   "cell_type": "markdown",
   "metadata": {
    "deletable": true,
    "editable": true
   },
   "source": [
    "## Selecting the most Influential Features\n",
    "Since we are exploring the electricity usage we want to select the features that are most influential to the total electricity usage."
   ]
  },
  {
   "cell_type": "code",
   "execution_count": 9,
   "metadata": {
    "collapsed": false,
    "deletable": true,
    "editable": true
   },
   "outputs": [
    {
     "name": "stdout",
     "output_type": "stream",
     "text": [
      "2416 Samples\n",
      "841 Features\n"
     ]
    }
   ],
   "source": [
    "# To begin with here is the shape of the data\n",
    "print(\"%d Samples\" % trainData.shape[0])\n",
    "print(\"%d Features\" % trainData.shape[1])"
   ]
  },
  {
   "cell_type": "code",
   "execution_count": 10,
   "metadata": {
    "collapsed": false,
    "deletable": true,
    "editable": true
   },
   "outputs": [
    {
     "data": {
      "text/plain": [
       "SelectKBest(k=10, score_func=<function mutual_info_classif at 0x109227048>)"
      ]
     },
     "execution_count": 10,
     "metadata": {},
     "output_type": "execute_result"
    }
   ],
   "source": [
    "# kCount is the number of features to select.\n",
    "kCount = 10\n",
    "\n",
    "selector = SelectKBest(mutual_info_classif, k=kCount)\n",
    "selector.fit(trainData, yTrain)"
   ]
  },
  {
   "cell_type": "code",
   "execution_count": 11,
   "metadata": {
    "collapsed": false,
    "deletable": true,
    "editable": true
   },
   "outputs": [
    {
     "name": "stdout",
     "output_type": "stream",
     "text": [
      "REPORTABLE_DOMAIN: Score = 0.1022\n",
      "TEMPHOMEAC: Score = 0.0915\n",
      "ACROOMS: Score = 0.0905\n",
      "DIVISION: Score = 0.0884\n",
      "TOTROOMS: Score = 0.0841\n",
      "TOTSQFT: Score = 0.0815\n",
      "TOTHSQFT: Score = 0.0801\n",
      "USECENAC: Score = 0.0790\n",
      "TOTSQFT_EN: Score = 0.0784\n",
      "TOTCSQFT: Score = 0.0783\n"
     ]
    }
   ],
   "source": [
    "choiceIndexes = selector.scores_.argsort()[-kCount:][::-1] # the [::-1] reverses the order (to get the high score first)\n",
    "choiceColumns = trainData.columns[choiceIndexes]\n",
    "for i in range(0, len(choiceColumns)):\n",
    "    print('%s: Score = %.4f' % (choiceColumns[i], selector.scores_[choiceIndexes[i]]))"
   ]
  },
  {
   "cell_type": "markdown",
   "metadata": {
    "deletable": true,
    "editable": true
   },
   "source": [
    "## Features that influence energy usage the most in a home.\n",
    "The output above shows the 10 most influential features in our dataset that contribute to total energy usage in homes. It can be observed that some features are dependent on each other, such as the number of bedrooms and heating/cooling usages. It makes sense that a larger home with more bedrooms uses more energy to cool or heat the space. Also it can be observed that AC contributes more usage than heating a home."
   ]
  },
  {
   "cell_type": "code",
   "execution_count": 12,
   "metadata": {
    "collapsed": false,
    "deletable": true,
    "editable": true,
    "scrolled": true
   },
   "outputs": [
    {
     "data": {
      "text/plain": [
       "<matplotlib.text.Text at 0x1051b0c18>"
      ]
     },
     "execution_count": 12,
     "metadata": {},
     "output_type": "execute_result"
    },
    {
     "data": {
      "image/png": "[encoded data removed]",
      "text/plain": [
       "<matplotlib.figure.Figure at 0x1055896d8>"
      ]
     },
     "metadata": {},
     "output_type": "display_data"
    }
   ],
   "source": [
    "infoScores = selector.scores_[selector.scores_.argsort()[::-1]]\n",
    "\n",
    "plt.plot(infoScores)\n",
    "plt.title('Plot of Scores vs Number of Features')"
   ]
  },
  {
   "cell_type": "markdown",
   "metadata": {
    "collapsed": true,
    "deletable": true,
    "editable": true
   },
   "source": [
    "## Building Classifiers\n",
    "We want to compare the accuracy of a classifier trained with different numbers of features."
   ]
  },
  {
   "cell_type": "code",
   "execution_count": 13,
   "metadata": {
    "collapsed": false,
    "deletable": true,
    "editable": true
   },
   "outputs": [
    {
     "name": "stdout",
     "output_type": "stream",
     "text": [
      "Building Models for 50 Features\n",
      "Building Models for 75 Features\n",
      "Building Models for 100 Features\n",
      "Building Models for 125 Features\n",
      "Building Models for 150 Features\n",
      "Building Models for 175 Features\n",
      "Building Models for 200 Features\n",
      "Building Models for 225 Features\n",
      "Building Models for 250 Features\n",
      "Building Models for 275 Features\n",
      "Building Models for 300 Features\n",
      "Building Models for 325 Features\n",
      "Building Models for 350 Features\n",
      "Building Models for 375 Features\n",
      "Building Models for 400 Features\n",
      "Building Models for 425 Features\n",
      "Building Models for 450 Features\n",
      "Building Models for 475 Features\n",
      "Building Models for 500 Features\n",
      "Building Models for 525 Features\n",
      "Building Models for 550 Features\n",
      "Building Models for 575 Features\n",
      "Building Models for 600 Features\n",
      "Building Models for 625 Features\n",
      "Building Models for 650 Features\n",
      "Building Models for 675 Features\n",
      "Building Models for 700 Features\n",
      "Building Models for 725 Features\n",
      "Building Models for 750 Features\n",
      "Building Models for 775 Features\n",
      "Building Models for 800 Features\n",
      "Building Models for 825 Features\n"
     ]
    }
   ],
   "source": [
    "selectorIndexes = selector.scores_.argsort()[::-1]\n",
    "\n",
    "classifiers = {}\n",
    "for i in range(50,len(trainData.columns),25):\n",
    "    print('Building Models for %d Features' % i)\n",
    "\n",
    "    # select the most relevant i features\n",
    "    choiceData = trainData[selectorIndexes[0:i]]\n",
    "    choiceIndexes = selector.scores_.argsort()[-i:][::-1] # the [::-1] reverses the order (to get the high score first)\n",
    "    choiceColumns = trainData.columns[choiceIndexes]\n",
    "    #for j in range(0, len(choiceColumns)):\n",
    "    #    print('%i %s: Score = %.4f' % (j,choiceColumns[j], selector.scores_[choiceIndexes[j]]))\n",
    "    #print(i , \"\\n\")\n",
    "    \n",
    "    # train the classifier\n",
    "    nb = MultinomialNB()\n",
    "    nb.fit(choiceData, yTrain)\n",
    "    \n",
    "    tree = DecisionTreeClassifier()\n",
    "    tree.fit(choiceData, yTrain)\n",
    "    \n",
    "    kn = KNeighborsClassifier()\n",
    "    kn.fit(choiceData, yTrain)\n",
    "    \n",
    "    svm = SVC()\n",
    "    svm.fit(choiceData, yTrain)\n",
    "    \n",
    "    classifiers[i] = {\n",
    "        \"nb\": nb,\n",
    "        \"tree\": tree,\n",
    "        \"kn\": kn,\n",
    "        \"svm\": svm,\n",
    "        \"testData\": testData[selectorIndexes[0:i]]\n",
    "    }\n",
    "    "
   ]
  },
  {
   "cell_type": "code",
   "execution_count": 14,
   "metadata": {
    "collapsed": false,
    "deletable": true,
    "editable": true
   },
   "outputs": [
    {
     "name": "stdout",
     "output_type": "stream",
     "text": [
      "Scoring with 50 features\n",
      "Scoring with 75 features\n",
      "Scoring with 100 features\n",
      "Scoring with 125 features\n",
      "Scoring with 150 features\n",
      "Scoring with 175 features\n",
      "Scoring with 200 features\n",
      "Scoring with 225 features\n",
      "Scoring with 250 features\n",
      "Scoring with 275 features\n",
      "Scoring with 300 features\n",
      "Scoring with 325 features\n",
      "Scoring with 350 features\n",
      "Scoring with 375 features\n",
      "Scoring with 400 features\n",
      "Scoring with 425 features\n",
      "Scoring with 450 features\n",
      "Scoring with 475 features\n",
      "Scoring with 500 features\n",
      "Scoring with 525 features\n",
      "Scoring with 550 features\n",
      "Scoring with 575 features\n",
      "Scoring with 600 features\n",
      "Scoring with 625 features\n",
      "Scoring with 650 features\n",
      "Scoring with 675 features\n",
      "Scoring with 700 features\n",
      "Scoring with 725 features\n",
      "Scoring with 750 features\n",
      "Scoring with 775 features\n",
      "Scoring with 800 features\n",
      "Scoring with 825 features\n"
     ]
    }
   ],
   "source": [
    "scores = {\n",
    "    'nb': [],\n",
    "    'tree': [],\n",
    "    'kn': [],\n",
    "    'svm': []\n",
    "}\n",
    "featureCounts = []\n",
    "for featureCount, clf in classifiers.items():\n",
    "    print('Scoring with %d features' % featureCount)\n",
    "    scores['nb'].append(clf['nb'].score(clf['testData'], yTest)*100)\n",
    "    scores['tree'].append(clf['tree'].score(clf['testData'], yTest)*100)\n",
    "    scores['kn'].append(clf['kn'].score(clf['testData'], yTest)*100)\n",
    "    scores['svm'].append(clf['svm'].score(clf['testData'], yTest)*100)\n",
    "    featureCounts.append(featureCount)"
   ]
  },
  {
   "cell_type": "code",
   "execution_count": 16,
   "metadata": {
    "collapsed": false,
    "deletable": true,
    "editable": true,
    "scrolled": true
   },
   "outputs": [
    {
     "data": {
      "text/plain": [
       "<matplotlib.text.Text at 0x1152982b0>"
      ]
     },
     "execution_count": 16,
     "metadata": {},
     "output_type": "execute_result"
    },
    {
     "data": {
      "image/png": "[encoded data removed]",
      "text/plain": [
       "<matplotlib.figure.Figure at 0x10a0dfe48>"
      ]
     },
     "metadata": {},
     "output_type": "display_data"
    }
   ],
   "source": [
    "fig = plt.figure(figsize=(10,10))\n",
    "plt.subplot(2, 1, 1)\n",
    "plt.plot(featureCounts, scores['nb'])\n",
    "plt.plot(featureCounts, scores['tree'])\n",
    "plt.plot(featureCounts, scores['kn'])\n",
    "plt.plot(featureCounts, scores['svm'])\n",
    "plt.legend(['Naive Bayes', 'Decision Tree', 'K-NN', 'SVM'])\n",
    "plt.title('Scoring of Classifiers Shown Graphically')\n",
    "plt.ylabel('Score')\n",
    "plt.xlabel('Number of Features')\n",
    "\n",
    "plt.subplot(2, 1, 2)\n",
    "plt.plot(infoScores)\n",
    "plt.title('Scoring vs Number of Features')\n",
    "plt.ylabel('Score')\n",
    "plt.xlabel('Number of Features')"
   ]
  },
  {
   "cell_type": "markdown",
   "metadata": {
    "collapsed": true,
    "deletable": true,
    "editable": true
   },
   "source": [
    "### Conclusion\n",
    "Our analysis was able to choose which classifier to use based on the score produced. The highest scoring (most accuarate) classifier is the Decision Tree Classifier based on the first of two graph above. There was a number of features that had little to no effect on determining the total energy usage in a home. The 10 features that were the most influential had contributed to the total electricity usage the most, such as AC/heating or the size of the home. Analysis of this data could help a homeowner determine which appliances and features of a home are contributing most to the overall usage. For future application this could help with cutting down the energy bill by targeting unnecessary usage and inefficient parts of a home. This would require a survey that is specific for a single home and a similar analysis. This type of analysis could help with an energy audit and creating more efficient living spaces. Combined with smart homes that could regulate AC/heating when a person is not home."
   ]
  },
  {
   "cell_type": "code",
   "execution_count": null,
   "metadata": {
    "collapsed": true,
    "deletable": true,
    "editable": true
   },
   "outputs": [],
   "source": []
  }
 ],
 "metadata": {
  "anaconda-cloud": {},
  "kernelspec": {
   "display_name": "Python 3",
   "language": "python",
   "name": "python3"
  },
  "language_info": {
   "codemirror_mode": {
    "name": "ipython",
    "version": 3
   },
   "file_extension": ".py",
   "mimetype": "text/x-python",
   "name": "python",
   "nbconvert_exporter": "python",
   "pygments_lexer": "ipython3",
   "version": "3.6.0"
  }
 },
 "nbformat": 4,
 "nbformat_minor": 2
}
