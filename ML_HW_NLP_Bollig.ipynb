{
 "cells": [
  {
   "cell_type": "code",
   "execution_count": 36,
   "metadata": {
    "collapsed": false
   },
   "outputs": [
    {
     "name": "stdout",
     "output_type": "stream",
     "text": [
      "[nltk_data] Downloading package punkt to /Users/Charles/nltk_data...\n",
      "[nltk_data]   Package punkt is already up-to-date!\n",
      "[nltk_data] Downloading package averaged_perceptron_tagger to\n",
      "[nltk_data]     /Users/Charles/nltk_data...\n",
      "[nltk_data]   Package averaged_perceptron_tagger is already up-to-\n",
      "[nltk_data]       date!\n"
     ]
    },
    {
     "data": {
      "text/plain": [
       "True"
      ]
     },
     "execution_count": 36,
     "metadata": {},
     "output_type": "execute_result"
    }
   ],
   "source": [
    "import nltk\n",
    "nltk.download('punkt')\n",
    "nltk.download('averaged_perceptron_tagger')"
   ]
  },
  {
   "cell_type": "markdown",
   "metadata": {},
   "source": [
    "# Problem 1"
   ]
  },
  {
   "cell_type": "code",
   "execution_count": 68,
   "metadata": {
    "collapsed": false
   },
   "outputs": [],
   "source": [
    "import itertools\n",
    "import pandas as pd\n",
    "import numpy as np\n",
    "from collections import Counter\n",
    "nums = open('retail.dat','r')\n",
    "nums = [nums.strip('\\n') for nums in nums]\n",
    "#nums = [nums.split(' ') for nums in nums]"
   ]
  },
  {
   "cell_type": "code",
   "execution_count": 69,
   "metadata": {
    "collapsed": false
   },
   "outputs": [],
   "source": [
    "aprior = []\n",
    "for i in range(1,11):\n",
    "    aprior.append(Counter(nums).most_common(i))"
   ]
  },
  {
   "cell_type": "code",
   "execution_count": 72,
   "metadata": {
    "collapsed": false
   },
   "outputs": [
    {
     "name": "stdout",
     "output_type": "stream",
     "text": [
      "These are the most freuquent elements found in a list 1 -10\n",
      "1 most common\n",
      "[('39 ', 860)]\n",
      "2 most common\n",
      "[('39 ', 860), ('39 48 ', 453)]\n",
      "3 most common\n",
      "[('39 ', 860), ('39 48 ', 453), ('32 ', 273)]\n",
      "4 most common\n",
      "[('39 ', 860), ('39 48 ', 453), ('32 ', 273), ('48 ', 183)]\n",
      "5 most common\n",
      "[('39 ', 860), ('39 48 ', 453), ('32 ', 273), ('48 ', 183), ('39 41 ', 112)]\n",
      "6 most common\n",
      "[('39 ', 860), ('39 48 ', 453), ('32 ', 273), ('48 ', 183), ('39 41 ', 112), ('38 110 ', 104)]\n",
      "7 most common\n",
      "[('39 ', 860), ('39 48 ', 453), ('32 ', 273), ('48 ', 183), ('39 41 ', 112), ('38 110 ', 104), ('32 39 ', 102)]\n",
      "8 most common\n",
      "[('39 ', 860), ('39 48 ', 453), ('32 ', 273), ('48 ', 183), ('39 41 ', 112), ('38 110 ', 104), ('32 39 ', 102), ('32 48 ', 80)]\n",
      "9 most common\n",
      "[('39 ', 860), ('39 48 ', 453), ('32 ', 273), ('48 ', 183), ('39 41 ', 112), ('38 110 ', 104), ('32 39 ', 102), ('32 48 ', 80), ('39 41 48 ', 77)]\n",
      "10 most common\n",
      "[('39 ', 860), ('39 48 ', 453), ('32 ', 273), ('48 ', 183), ('39 41 ', 112), ('38 110 ', 104), ('32 39 ', 102), ('32 48 ', 80), ('39 41 48 ', 77), ('38 39 110 ', 57)]\n"
     ]
    }
   ],
   "source": [
    "print \"These are the most freuquent elements found in a list 1 -10\"\n",
    "for i in aprior:\n",
    "    print \"%d most common\" % len(i)\n",
    "    print i"
   ]
  },
  {
   "cell_type": "markdown",
   "metadata": {},
   "source": [
    "# Problem 2"
   ]
  },
  {
   "cell_type": "code",
   "execution_count": 13,
   "metadata": {
    "collapsed": true
   },
   "outputs": [],
   "source": [
    "sentence1 = \"News On the eve of President Obama's speech laying out his strategy to combat the terror group ISIS, national security hawks are demanding the United States authorize airstrikes against the group's leaders.\"\n",
    "sentence2 = \"Tweet (1pt) What The Heck Is AdWords Quality Score And Why Does It Matter Anyway? http://bit.ly/12lHLap (@WordStream)\"\n",
    "sentence3 = \"\"\"How has your life changed since The Big Bang Theory took off?\n",
    "The Big Bang Theory has completely changed my life.\n",
    "To be blunt, it's been several years since I've had to cash in any unemployment cheques - and that's really nice.\n",
    "I know that sounds mundane, but it's very true. \n",
    "\"\"\"\n",
    "sentence4 = \"So shaken as we are, so wan with care, Find we a time for frighted peace to pant, And breathe short-winded accents of new broils To be commenced in strands afar remote.\""
   ]
  },
  {
   "cell_type": "code",
   "execution_count": 14,
   "metadata": {
    "collapsed": false
   },
   "outputs": [],
   "source": [
    "tokens1 = nltk.word_tokenize(sentence1)\n",
    "tokens2 = nltk.word_tokenize(sentence2)\n",
    "tokens3 = nltk.word_tokenize(sentence3)\n",
    "tokens4 = nltk.word_tokenize(sentence4)"
   ]
  },
  {
   "cell_type": "code",
   "execution_count": 18,
   "metadata": {
    "collapsed": false
   },
   "outputs": [],
   "source": [
    "tagged1 = nltk.pos_tag(tokens1)\n",
    "tagged2 = nltk.pos_tag(tokens2)\n",
    "tagged3 = nltk.pos_tag(tokens3)\n",
    "tagged4 = nltk.pos_tag(tokens4)"
   ]
  },
  {
   "cell_type": "code",
   "execution_count": 20,
   "metadata": {
    "collapsed": false
   },
   "outputs": [
    {
     "name": "stdout",
     "output_type": "stream",
     "text": [
      "Sentence1\n",
      "News On the eve of President Obama's speech laying out his strategy to combat the terror group ISIS, national security hawks are demanding the United States authorize airstrikes against the group's leaders.\n"
     ]
    },
    {
     "data": {
      "text/plain": [
       "[('News', 'NN'),\n",
       " ('On', 'IN'),\n",
       " ('the', 'DT'),\n",
       " ('eve', 'NN'),\n",
       " ('of', 'IN'),\n",
       " ('President', 'NNP'),\n",
       " ('Obama', 'NNP'),\n",
       " (\"'s\", 'POS'),\n",
       " ('speech', 'NN'),\n",
       " ('laying', 'VBG'),\n",
       " ('out', 'RP'),\n",
       " ('his', 'PRP$'),\n",
       " ('strategy', 'NN'),\n",
       " ('to', 'TO'),\n",
       " ('combat', 'VB'),\n",
       " ('the', 'DT'),\n",
       " ('terror', 'NN'),\n",
       " ('group', 'NN'),\n",
       " ('ISIS', 'NNP'),\n",
       " (',', ','),\n",
       " ('national', 'JJ'),\n",
       " ('security', 'NN'),\n",
       " ('hawks', 'NNS'),\n",
       " ('are', 'VBP'),\n",
       " ('demanding', 'VBG'),\n",
       " ('the', 'DT'),\n",
       " ('United', 'NNP'),\n",
       " ('States', 'NNPS'),\n",
       " ('authorize', 'VBP'),\n",
       " ('airstrikes', 'NNS'),\n",
       " ('against', 'IN'),\n",
       " ('the', 'DT'),\n",
       " ('group', 'NN'),\n",
       " (\"'s\", 'POS'),\n",
       " ('leaders', 'NNS'),\n",
       " ('.', '.')]"
      ]
     },
     "execution_count": 20,
     "metadata": {},
     "output_type": "execute_result"
    }
   ],
   "source": [
    "print \"Sentence1\"\n",
    "print sentence1\n",
    "tagged1\n"
   ]
  },
  {
   "cell_type": "code",
   "execution_count": 21,
   "metadata": {
    "collapsed": false
   },
   "outputs": [
    {
     "name": "stdout",
     "output_type": "stream",
     "text": [
      "Sentence2\n",
      "Tweet (1pt) What The Heck Is AdWords Quality Score And Why Does It Matter Anyway? http://bit.ly/12lHLap (@WordStream)\n"
     ]
    },
    {
     "data": {
      "text/plain": [
       "[('Tweet', 'NNP'),\n",
       " ('(', '('),\n",
       " ('1pt', 'CD'),\n",
       " (')', ')'),\n",
       " ('What', 'WP'),\n",
       " ('The', 'DT'),\n",
       " ('Heck', 'NNP'),\n",
       " ('Is', 'NNP'),\n",
       " ('AdWords', 'NNP'),\n",
       " ('Quality', 'NNP'),\n",
       " ('Score', 'NNP'),\n",
       " ('And', 'CC'),\n",
       " ('Why', 'WRB'),\n",
       " ('Does', 'VBZ'),\n",
       " ('It', 'PRP'),\n",
       " ('Matter', 'NNP'),\n",
       " ('Anyway', 'NNP'),\n",
       " ('?', '.'),\n",
       " ('http', 'NN'),\n",
       " (':', ':'),\n",
       " ('//bit.ly/12lHLap', 'NN'),\n",
       " ('(', '('),\n",
       " ('@', 'NNP'),\n",
       " ('WordStream', 'NNP'),\n",
       " (')', ')')]"
      ]
     },
     "execution_count": 21,
     "metadata": {},
     "output_type": "execute_result"
    }
   ],
   "source": [
    "print \"Sentence2\"\n",
    "print sentence2\n",
    "tagged2"
   ]
  },
  {
   "cell_type": "code",
   "execution_count": 22,
   "metadata": {
    "collapsed": false
   },
   "outputs": [
    {
     "name": "stdout",
     "output_type": "stream",
     "text": [
      "Sentence2\n",
      "How has your life changed since The Big Bang Theory took off?\n",
      "The Big Bang Theory has completely changed my life.\n",
      "To be blunt, it's been several years since I've had to cash in any unemployment cheques - and that's really nice.\n",
      "I know that sounds mundane, but it's very true. \n",
      "\n"
     ]
    },
    {
     "data": {
      "text/plain": [
       "[('How', 'WRB'),\n",
       " ('has', 'VBZ'),\n",
       " ('your', 'PRP$'),\n",
       " ('life', 'NN'),\n",
       " ('changed', 'VBD'),\n",
       " ('since', 'IN'),\n",
       " ('The', 'DT'),\n",
       " ('Big', 'NNP'),\n",
       " ('Bang', 'NNP'),\n",
       " ('Theory', 'NNP'),\n",
       " ('took', 'VBD'),\n",
       " ('off', 'RP'),\n",
       " ('?', '.'),\n",
       " ('The', 'DT'),\n",
       " ('Big', 'NNP'),\n",
       " ('Bang', 'NNP'),\n",
       " ('Theory', 'NNP'),\n",
       " ('has', 'VBZ'),\n",
       " ('completely', 'RB'),\n",
       " ('changed', 'VBN'),\n",
       " ('my', 'PRP$'),\n",
       " ('life', 'NN'),\n",
       " ('.', '.'),\n",
       " ('To', 'TO'),\n",
       " ('be', 'VB'),\n",
       " ('blunt', 'NN'),\n",
       " (',', ','),\n",
       " ('it', 'PRP'),\n",
       " (\"'s\", 'VBZ'),\n",
       " ('been', 'VBN'),\n",
       " ('several', 'JJ'),\n",
       " ('years', 'NNS'),\n",
       " ('since', 'IN'),\n",
       " ('I', 'PRP'),\n",
       " (\"'ve\", 'VBP'),\n",
       " ('had', 'VBD'),\n",
       " ('to', 'TO'),\n",
       " ('cash', 'NN'),\n",
       " ('in', 'IN'),\n",
       " ('any', 'DT'),\n",
       " ('unemployment', 'NN'),\n",
       " ('cheques', 'NNS'),\n",
       " ('-', ':'),\n",
       " ('and', 'CC'),\n",
       " ('that', 'DT'),\n",
       " (\"'s\", 'VBZ'),\n",
       " ('really', 'RB'),\n",
       " ('nice', 'JJ'),\n",
       " ('.', '.'),\n",
       " ('I', 'PRP'),\n",
       " ('know', 'VBP'),\n",
       " ('that', 'DT'),\n",
       " ('sounds', 'VBZ'),\n",
       " ('mundane', 'JJ'),\n",
       " (',', ','),\n",
       " ('but', 'CC'),\n",
       " ('it', 'PRP'),\n",
       " (\"'s\", 'VBZ'),\n",
       " ('very', 'RB'),\n",
       " ('true', 'JJ'),\n",
       " ('.', '.')]"
      ]
     },
     "execution_count": 22,
     "metadata": {},
     "output_type": "execute_result"
    }
   ],
   "source": [
    "print \"Sentence2\"\n",
    "print sentence3\n",
    "tagged3"
   ]
  },
  {
   "cell_type": "code",
   "execution_count": 23,
   "metadata": {
    "collapsed": false
   },
   "outputs": [
    {
     "name": "stdout",
     "output_type": "stream",
     "text": [
      "Sentence4\n",
      "So shaken as we are, so wan with care, Find we a time for frighted peace to pant, And breathe short-winded accents of new broils To be commenced in strands afar remote.\n"
     ]
    },
    {
     "data": {
      "text/plain": [
       "[('So', 'RB'),\n",
       " ('shaken', 'JJ'),\n",
       " ('as', 'IN'),\n",
       " ('we', 'PRP'),\n",
       " ('are', 'VBP'),\n",
       " (',', ','),\n",
       " ('so', 'IN'),\n",
       " ('wan', 'JJ'),\n",
       " ('with', 'IN'),\n",
       " ('care', 'NN'),\n",
       " (',', ','),\n",
       " ('Find', 'NNP'),\n",
       " ('we', 'PRP'),\n",
       " ('a', 'DT'),\n",
       " ('time', 'NN'),\n",
       " ('for', 'IN'),\n",
       " ('frighted', 'JJ'),\n",
       " ('peace', 'NN'),\n",
       " ('to', 'TO'),\n",
       " ('pant', 'VB'),\n",
       " (',', ','),\n",
       " ('And', 'CC'),\n",
       " ('breathe', 'VB'),\n",
       " ('short-winded', 'JJ'),\n",
       " ('accents', 'NNS'),\n",
       " ('of', 'IN'),\n",
       " ('new', 'JJ'),\n",
       " ('broils', 'NNS'),\n",
       " ('To', 'TO'),\n",
       " ('be', 'VB'),\n",
       " ('commenced', 'VBN'),\n",
       " ('in', 'IN'),\n",
       " ('strands', 'NNS'),\n",
       " ('afar', 'JJ'),\n",
       " ('remote', 'NN'),\n",
       " ('.', '.')]"
      ]
     },
     "execution_count": 23,
     "metadata": {},
     "output_type": "execute_result"
    }
   ],
   "source": [
    "print \"Sentence4\"\n",
    "print sentence4\n",
    "tagged4"
   ]
  },
  {
   "cell_type": "code",
   "execution_count": null,
   "metadata": {
    "collapsed": true
   },
   "outputs": [],
   "source": []
  }
 ],
 "metadata": {
  "anaconda-cloud": {},
  "kernelspec": {
   "display_name": "Python [Root]",
   "language": "python",
   "name": "Python [Root]"
  },
  "language_info": {
   "codemirror_mode": {
    "name": "ipython",
    "version": 2
   },
   "file_extension": ".py",
   "mimetype": "text/x-python",
   "name": "python",
   "nbconvert_exporter": "python",
   "pygments_lexer": "ipython2",
   "version": "2.7.12"
  }
 },
 "nbformat": 4,
 "nbformat_minor": 0
}
