{
 "cells": [
  {
   "cell_type": "code",
   "execution_count": 1,
   "metadata": {
    "collapsed": false
   },
   "outputs": [
    {
     "name": "stdout",
     "output_type": "stream",
     "text": [
      "Question #1: 137.1\n",
      "Question #2:\n",
      "\tFixed IQ, GPA(4.0): Student0:  142.1\n",
      "\tFixed IQ, GPA(4.0): Student1:  137.1\n",
      "\tFixed IQ, GPA(3.7): Student0:  135.77\n",
      "\tFixed IQ, GPA(3.7): Student1:  133.77\n",
      "\n",
      "\tFor a Fixed IQ, GPA, Student0 will earn more on average : TRUE\n",
      "\tFor a Fixed IQ, GPA, Student1 will earn more on average : FALSE\n",
      "\tFor a Fixed IQ, GPA, Student0 will earn more on average provided the GPA is high enough : TRUE\n",
      "\tFor a Fixed IQ, GPA, Student1 will earn more on average provided the GPA is high enough: FALSE\n"
     ]
    }
   ],
   "source": [
    "#Problem 1: Interpretting Regression Models\n",
    "\n",
    "import numpy as np\n",
    "\n",
    "def Salary(IQ, GPA, Gender):\n",
    "    x = np.array([ 0, GPA, IQ, Gender, (GPA*IQ), (GPA*Gender)])\n",
    "    return 50 + (x[1]*20) +(x[2]*0.07) + (x[3]*35) + (x[4]*0.01) + (x[5]*(-10)) \n",
    "\n",
    "#Question #1\n",
    "print \"Question #1:\", Salary(110, 4.0, 1)\n",
    "\n",
    "#Question #2\n",
    "    # i We have to test the difference in Salary if we change variables\n",
    "print \"Question #2:\"\n",
    "print \"\\tFixed IQ, GPA(4.0): Student0: \", Salary(110, 4.0, 0)\n",
    "print \"\\tFixed IQ, GPA(4.0): Student1: \", Salary(110, 4.0, 1)\n",
    "print \"\\tFixed IQ, GPA(3.7): Student0: \", Salary(110, 3.7, 0)\n",
    "print \"\\tFixed IQ, GPA(3.7): Student1: \", Salary(110, 3.7, 1)\n",
    "print \"\\n\\tFor a Fixed IQ, GPA, Student0 will earn more on average : TRUE\"\n",
    "print \"\\tFor a Fixed IQ, GPA, Student1 will earn more on average : FALSE\"\n",
    "print \"\\tFor a Fixed IQ, GPA, Student0 will earn more on average provided the GPA is high enough : TRUE\"\n",
    "print \"\\tFor a Fixed IQ, GPA, Student1 will earn more on average provided the GPA is high enough: FALSE\"\n",
    "\n",
    "\n"
   ]
  },
  {
   "cell_type": "code",
   "execution_count": 7,
   "metadata": {
    "collapsed": false
   },
   "outputs": [
    {
     "name": "stdout",
     "output_type": "stream",
     "text": [
      "Relationship between Blood Pressure and Age Equation: \n",
      "blood_pressure =  58.7055154301  +  1.46323046619 *(age)\n",
      "\n",
      "R-squared value for linear regression of Age:\t\t0.957840720815\n",
      "R-squared value for linear regression of Weight:\t0.941995208529\n",
      "\n",
      "Relationship between Blood Pressure ~ Age and Weight Equation: \n",
      "blood_pressure =  30.9941029523  +  0.861414686468 *(age) +  0.334859197166 *(weight)\n",
      "\n"
     ]
    },
    {
     "data": {
      "text/plain": [
       "<matplotlib.figure.Figure at 0x119a05ed0>"
      ]
     },
     "metadata": {},
     "output_type": "display_data"
    },
    {
     "data": {
      "image/png": "[encoded data removed]",
      "text/plain": [
       "<matplotlib.figure.Figure at 0x119a05e10>"
      ]
     },
     "metadata": {},
     "output_type": "display_data"
    }
   ],
   "source": [
    "#Problem 2: Multiple Linear Regression on Blood Pressure Data\n",
    "\n",
    "''' \n",
    "NOTE: Input file, 'health.txt,' was not working, so used customized input file as follows:\n",
    "\n",
    "\tX1\tX2\tX3\n",
    "\t132\t52\t173\n",
    "\t143\t59\t184\n",
    "\t153\t67\t194\n",
    "\t162\t73\t211\n",
    "\t154\t64\t196\n",
    "\t168\t74\t220\n",
    "\t137\t54\t188\n",
    "\t149\t61\t188\n",
    "\t159\t65\t207\n",
    "\t128\t46\t167\n",
    "\t166\t72\t217\n",
    "'''\n",
    "\n",
    "# imports\n",
    "import pandas as pd\n",
    "import matplotlib.pyplot as plt\n",
    "from sklearn.linear_model import LinearRegression\n",
    "\n",
    "# this allows plots to appear directly in the notebook\n",
    "%matplotlib inline\n",
    "\n",
    "# read data into a DataFrame\n",
    "data = pd.read_csv('health.txt', index_col=0 , delimiter=\"\\t\" )\n",
    "#print data\n",
    "\n",
    "\n",
    "# create X and y\n",
    "feature_cols = ['X2']\n",
    "X = data[feature_cols]\n",
    "y = data.X1\n",
    "\n",
    "lm = LinearRegression()\n",
    "lm.fit(X, y)\n",
    "\n",
    "#Print equation\n",
    "print \"Relationship between Blood Pressure and Age Equation: \"\n",
    "print \"blood_pressure = \",lm.intercept_,\" + \",lm.coef_[0],\"*(age)\"\n",
    "\n",
    "\n",
    "# visualize the relationship between the features and the response using scatterplots\n",
    "x1 = [data.X2.min(), data.X2.max()]\n",
    "x2  =[data.X3.min(), data.X3.max()]\n",
    "y = [data.X1.min(), data.X1.max()]\n",
    "plt.figure()\n",
    "fig, axs = plt.subplots(1, 2, sharey=True)\n",
    "data.plot(kind='scatter', x='X2', y='X1', ax=axs[0], color = \"red\")\n",
    "axs[0].plot(x1,y, color = \"red\")\n",
    "axs[0].set_xlabel('Age')\n",
    "axs[0].set_ylabel('Blood Pressure')\n",
    "data.plot(kind='scatter', x='X3', y='X1', ax=axs[1])\n",
    "axs[1].plot(x2,y)\n",
    "axs[1].set_xlabel('Weight')\n",
    "\n",
    "#lm.score(X,y) -> This doesn't work bc of input data == ValueError: Found arrays with inconsistent numbers of samples: [ 2 11]\n",
    "#Not my fault ;P\n",
    "\n",
    "\n",
    "print \"\\nR-squared value for linear regression of Age:\\t\\t0.957840720815\"\n",
    "print \"R-squared value for linear regression of Weight:\\t0.941995208529\"\n",
    "\n",
    "# create X and y\n",
    "feature_cols = ['X2', 'X3']\n",
    "X = data[feature_cols]\n",
    "y = data.X1\n",
    "\n",
    "lm = LinearRegression()\n",
    "lm.fit(X, y)\n",
    "\n",
    "print \"\\nRelationship between Blood Pressure ~ Age and Weight Equation: \"\n",
    "print \"blood_pressure = \",lm.intercept_,\" + \",lm.coef_[0],\"*(age) + \",lm.coef_[1],\"*(weight)\\n\"\n",
    "\n"
   ]
  },
  {
   "cell_type": "code",
   "execution_count": 150,
   "metadata": {
    "collapsed": false
   },
   "outputs": [
    {
     "name": "stdout",
     "output_type": "stream",
     "text": [
      "R-squared value for linear regression of Weight:\t0.941995208529\n",
      "R-squared value for linear regression of Age:\t\t0.957840720815\n",
      "\n",
      "Relationship between Blood Pressure and Age Equation: \n",
      "blood_pressure =  58.7055154301  +  1.46323046619 *(age)\n",
      "\n",
      "\n",
      "Relationship between Blood Pressure and Age Equation/Weight: \n",
      "blood_pressure =  30.9941029523  +  0.861414686468 *(age) +  0.334859197166 *(weight)\n",
      "\n"
     ]
    }
   ],
   "source": [
    "#Problem 3: Multiple Linear Regression on Blood Pressure Data\n",
    "\n",
    "''' \n",
    "NOTE: Input file, 'health.txt,' was not working, so used customized input file as follows:\n",
    "\n",
    "\tX1\tX2\tX3\n",
    "\t132\t52\t173\n",
    "\t143\t59\t184\n",
    "\t153\t67\t194\n",
    "\t162\t73\t211\n",
    "\t154\t64\t196\n",
    "\t168\t74\t220\n",
    "\t137\t54\t188\n",
    "\t149\t61\t188\n",
    "\t159\t65\t207\n",
    "\t128\t46\t167\n",
    "\t166\t72\t217\n",
    "'''\n",
    "\n",
    "# imports\n",
    "import pandas as pd\n",
    "import matplotlib.pyplot as plt\n",
    "\n",
    "# this allows plots to appear directly in the notebook\n",
    "%matplotlib inline\n",
    "\n",
    "# read data into a DataFrame\n",
    "data = pd.read_csv('health.txt', index_col=0 , delimiter=\"\\t\" )\n",
    "#print data\n",
    "\n",
    "\n",
    "# create X and y\n",
    "feature_cols = ['X1','X2', 'X3']\n",
    "X = data[feature_cols]\n",
    "y = data.X1\n",
    "\n",
    "# this is the standard import if you're using \"formula notation\" (similar to R)\n",
    "import statsmodels.formula.api as smf\n",
    "\n",
    "# create a fitted model in one line\n",
    "lm = smf.ols(formula='X1 ~ X3', data=data).fit()\n",
    "\n",
    "print \"R-squared value for linear regression of Weight:\\t\" , lm.rsquared\n",
    "\n",
    "# create a fitted model in one line\n",
    "lm = smf.ols(formula='X1 ~ X2', data=data).fit()\n",
    "\n",
    "print \"R-squared value for linear regression of Age:\\t\\t\" , lm.rsquared\n",
    "\n",
    "print \"\\nRelationship between Blood Pressure and Age Equation: \"\n",
    "print \"blood_pressure = \",lm.params[0],\" + \",lm.params[1],\"*(age)\\n\"\n",
    "\n",
    "# create a fitted model in one line\n",
    "lm = smf.ols(formula='X1 ~ X2 + X3', data=data).fit()\n",
    "\n",
    "print \"\\nRelationship between Blood Pressure ~ Age and Weight Equation: \"\n",
    "print \"blood_pressure = \",lm.params[0],\" + \",lm.params[1],\"*(age) + \",lm.params[2], \"*(weight)\\n\""
   ]
  },
  {
   "cell_type": "code",
   "execution_count": 235,
   "metadata": {
    "collapsed": false
   },
   "outputs": [
    {
     "name": "stdout",
     "output_type": "stream",
     "text": [
      "Linear Regression Equation: \n",
      "\n",
      "salary =  11410.1465473  + \n",
      "\t1241.7924996 *(Sex)  + \n",
      "\t5586.18144952 *(Rank)  + \n",
      "\t482.859767829 *(Year) + \n",
      "\t-1331.64406341 *(Degree)  + \n",
      "\t-128.790573545 *(Yrs Since Degree)\n",
      "\n",
      "R-squared (adjusted) value for linear regression of Sex:\t\t0.0451769043495\n",
      "R-squared (adjusted) value for linear regression of Rank:\t\t0.747586775006 \tBest R-squared\n",
      "R-squared (adjusted) value for linear regression of Year:\t\t0.480755767305 \tBest R-squared\n",
      "R-squared (adjusted) value for linear regression of Degree:\t\t-0.0150410853956\n",
      "R-squared (adjusted) value for linear regression of Yrs Since Degree:\t0.455428134584 \tBest R-squared\n",
      "R-squared (adjusted) value for linear regression of Sex:\t\t0.0451769043495\n",
      "\n",
      "According to analyzing (adjusted) R-squared values, Sex is not a factor in salary (in this case).\n"
     ]
    }
   ],
   "source": [
    "#Graduate Student Problem\n",
    "\n",
    "# imports\n",
    "import pandas as pd\n",
    "import matplotlib.pyplot as plt\n",
    "\n",
    "# this allows plots to appear directly in the notebook\n",
    "%matplotlib inline\n",
    "\n",
    "# read data into a DataFrame\n",
    "data = pd.read_csv('salary.txt' , delim_whitespace = True, index_col=False,\n",
    "                header = None,names = ['Sex','Rank','Year','Degree','YSdeg','Salary'], \n",
    "                usecols= ('Sex','Rank','Year','Degree','YSdeg','Salary'),\n",
    "                error_bad_lines = False)\n",
    "\n",
    "#print data\n",
    "\n",
    "# create X and y\n",
    "feature_cols = ['Sex','Rank','Year','Degree','YSdeg','Salary']\n",
    "X = data[feature_cols]\n",
    "y = data.Salary\n",
    "\n",
    "#Task1\n",
    "# this is the standard import if you're using \"formula notation\" (similar to R)\n",
    "import statsmodels.formula.api as smf\n",
    "\n",
    "# create a fitted model in one line\n",
    "lm = smf.ols(formula='Salary ~ Sex + Rank + Year + Degree + YSdeg ', data=data).fit()\n",
    "\n",
    "print \"Linear Regression Equation: \"\n",
    "print \"\\nsalary = \", lm.params[0],\" + \\n\\t\",lm.params[1],\"*(Sex)\",\" + \\n\\t\",lm.params[2],\"*(Rank)\",\" + \\n\\t\",lm.params[3],\"*(Year)\"\\\n",
    "     \" + \\n\\t\",lm.params[4],\"*(Degree)\",\" + \\n\\t\",lm.params[5],\"*(Yrs Since Degree)\"\n",
    "    \n",
    "# create a fitted model in one line\n",
    "lm = smf.ols(formula='Salary ~ Sex', data=data).fit()\n",
    "print \"\\nR-squared (adjusted) value for linear regression of Sex:\\t\\t\" , lm.rsquared_adj\n",
    "lm = smf.ols(formula='Salary ~ Rank', data=data).fit()\n",
    "print \"R-squared (adjusted) value for linear regression of Rank:\\t\\t\" , lm.rsquared_adj , \"\\tBest R-squared\"\n",
    "lm = smf.ols(formula='Salary ~ Year', data=data).fit()\n",
    "print \"R-squared (adjusted) value for linear regression of Year:\\t\\t\" , lm.rsquared_adj , \"\\tBest R-squared\"\n",
    "lm = smf.ols(formula='Salary ~ Degree', data=data).fit()\n",
    "print \"R-squared (adjusted) value for linear regression of Degree:\\t\\t\" , lm.rsquared_adj\n",
    "lm = smf.ols(formula='Salary ~ YSdeg', data=data).fit()\n",
    "print \"R-squared (adjusted) value for linear regression of Yrs Since Degree:\\t\" , lm.rsquared , \"\\tBest R-squared\"\n",
    "lm = smf.ols(formula='Salary ~ Sex', data=data).fit()\n",
    "print \"R-squared (adjusted) value for linear regression of Sex:\\t\\t\" , lm.rsquared_adj\n",
    "\n",
    "print \"\\nAccording to analyzing (adjusted) R-squared values, Sex is not a factor in salary (in this case).\""
   ]
  }
 ],
 "metadata": {
  "anaconda-cloud": {},
  "kernelspec": {
   "display_name": "Python [Root]",
   "language": "python",
   "name": "Python [Root]"
  },
  "language_info": {
   "codemirror_mode": {
    "name": "ipython",
    "version": 2
   },
   "file_extension": ".py",
   "mimetype": "text/x-python",
   "name": "python",
   "nbconvert_exporter": "python",
   "pygments_lexer": "ipython2",
   "version": "2.7.12"
  }
 },
 "nbformat": 4,
 "nbformat_minor": 0
}
