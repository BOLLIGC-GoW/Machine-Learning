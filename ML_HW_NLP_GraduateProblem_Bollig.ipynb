{
 "cells": [
  {
   "cell_type": "code",
   "execution_count": 79,
   "metadata": {
    "collapsed": false,
    "scrolled": true
   },
   "outputs": [
    {
     "name": "stdout",
     "output_type": "stream",
     "text": [
      "[nltk_data] Downloading package punkt to /Users/Charles/nltk_data...\n",
      "[nltk_data]   Package punkt is already up-to-date!\n",
      "[nltk_data] Downloading package averaged_perceptron_tagger to\n",
      "[nltk_data]     /Users/Charles/nltk_data...\n",
      "[nltk_data]   Package averaged_perceptron_tagger is already up-to-\n",
      "[nltk_data]       date!\n",
      "[nltk_data] Downloading package stopwords to\n",
      "[nltk_data]     /Users/Charles/nltk_data...\n",
      "[nltk_data]   Package stopwords is already up-to-date!\n"
     ]
    }
   ],
   "source": [
    "import nltk\n",
    "import string\n",
    "nltk.download('punkt')\n",
    "nltk.download('averaged_perceptron_tagger')\n",
    "nltk.download('stopwords')\n",
    "import itertools\n",
    "import pandas as pd\n",
    "import numpy as np\n",
    "from collections import Counter\n",
    "shakes1 = open('shakes1.txt','r')\n",
    "shakes1 = [shakes1.strip('\\n') for shakes1 in shakes1]\n",
    "shakes1 = ''.join(shakes1)"
   ]
  },
  {
   "cell_type": "markdown",
   "metadata": {},
   "source": [
    "# Part A"
   ]
  },
  {
   "cell_type": "code",
   "execution_count": 80,
   "metadata": {
    "collapsed": false
   },
   "outputs": [
    {
     "name": "stdout",
     "output_type": "stream",
     "text": [
      "!\"#$%&'()*+,-./:;<=>?@[\\]^_`{|}~\n"
     ]
    }
   ],
   "source": [
    "print string.punctuation"
   ]
  },
  {
   "cell_type": "code",
   "execution_count": 81,
   "metadata": {
    "collapsed": false
   },
   "outputs": [],
   "source": [
    "exclude = set(string.punctuation)\n",
    "shakes1 = ''.join(ch for ch in shakes1 if ch not in exclude)\n",
    "shakes1 = shakes1.lower()"
   ]
  },
  {
   "cell_type": "code",
   "execution_count": 82,
   "metadata": {
    "collapsed": false,
    "scrolled": true
   },
   "outputs": [
    {
     "name": "stdout",
     "output_type": "stream",
     "text": [
      "this young gentlewoman had a fathero thathad how sad a passage tiswhose skill wasalmost as great as his honesty had it stretched sofar would have made nature immortal and deathshould have play for lack of work would for thekings sake he were living i think it would bethe death of the kings diseasehe was excellent indeed madam the king verylately spoke of him admiringly and mourningly hewas skilful enough to have lived still if knowledgecould be set up against mortalityhis sole child my lord and bequeathed to myoverlooking i have those hopes of her good thather education promises her dispositions sheinherits which makes fair gifts fairer for wherean unclean mind carries virtuous qualities therecommendations go with pity they are virtues andtraitors too in her they are the better for theirsimpleness she derives her honesty and achieves her goodnessbe thou blest bertram and succeed thy fatherin manners as in shape thy blood and virtuecontend for empire in thee and thy goodnessshare with thy birthright love all trust a fewdo wrong to none be able for thine enemyrather in power than use and keep thy friendunder thy own lifes key be chequed for silencebut never taxd for speech what heaven more willthat thee may furnish and my prayers pluck downfall on thy head farewell my lordtis an unseasond courtier good my lordadvise himo were that all i think not on my fatherand these great tears grace his remembrance morethan those i shed for him what was he likei have forgot him my imaginationcarries no favour int but bertramsi am undone there is no living noneif bertram be away twere all onethat i should love a bright particular starand think to wed it he is so above mein his bright radiance and collateral lightmust i be comforted not in his spherethe ambition in my love thus plagues itselfthe hind that would be mated by the lionmust die for love twas pretty though plagueto see him every hour to sit and drawhis arched brows his hawking eye his curlsin our hearts table heart too capableof every line and trick of his sweet favourbut now hes gone and my idolatrous fancymust sanctify his reliques who comes heretheres little can be said in t tis against therule of nature to speak on the part of virginityis to accuse your mothers which is most infallibledisobedience he that hangs himself is a virginvirginity murders itself and should be buried inhighways out of all sanctified limit as a desperateoffendress against nature virginity breeds mitesmuch like a cheese consumes itself to the veryparing and so dies with feeding his own stomachbesides virginity is peevish proud idle made ofselflove which is the most inhibited sin in thecanon keep it not you cannot choose but loosebyt out with t within ten year it will makeitself ten which is a goodly increase and theprincipal itself not much the worse away with tour remedies oft in ourselves do liewhich we ascribe to heaven the fated skygives us free scope only doth backward pullour slow designs when we ourselves are dullwhat power is it which mounts my love so highthat makes me see and cannot feed mine eyethe mightiest space in fortune nature bringsto join like likes and kiss like native thingsimpossible be strange attempts to thosethat weigh their pains in sense and do supposewhat hath been cannot be who ever stroveso show her merit that did miss her lovethe kings diseasemy project may deceive mebut my intents are fixd and will not leave meo yes into a thousand similesfirst for his weeping into the needless streampoor deer quoth he thou makest a testamentas worldlings do giving thy sum of moreto that which had too much then being there aloneleft and abandond of his velvet friendstis right quoth he thus misery doth partthe flux of company anon a careless herdfull of the pasture jumps along by himand never stays to greet him ay quoth jaquessweep on you fat and greasy citizenstis just the fashion wherefore do you lookupon that poor and broken bankrupt therethus most invectively he pierceth throughthe body of the country city courtyea and of this our life swearing that weare mere usurpers tyrants and whats worseto fright the animals and to kill them upin their assignd and native dwellingplacemy lord the roynish clown at whom so oftyour grace was wont to laugh is also missinghisperia the princess gentlewomanconfesses that she secretly oerheardyour daughter and her cousin much commendthe parts and graces of the wrestlerthat did but lately foil the sinewy charlesand she believes wherever they are gonethat youth is surely in their companywhat my young master o my gentle mastero my sweet master o you memoryof old sir rowland why what make you herewhy are you virtuous why do people love youand wherefore are you gentle strong and valiantwhy would you be so fond to overcomethe bonny priser of the humorous dukeyour praise is come too swiftly home before youknow you not master to some kind of mentheir graces serve them but as enemiesno more do yours your virtues gentle masterare sanctified and holy traitors to youo what a world is this when what is comelyenvenoms him that bears itbut do not so i have five hundred crownsthe thrifty hire i saved under your fatherwhich i did store to be my fosternursewhen service should in my old limbs lie lameand unregarded age in corners throwntake that and he that doth the ravens feedyea providently caters for the sparrowbe comfort to my age here is the goldand all this i give you let me be your servantthough i look old yet i am strong and lustyfor in my youth i never did applyhot and rebellious liquors in my bloodnor did not with unbashful forehead woothe means of weakness and debilitytherefore my age is as a lusty winterfrosty but kindly let me go with youill do the service of a younger manin all your business and necessitieso good old man how well in thee appearsthe constant service of the antique worldwhen service sweat for duty not for meedthou art not for the fashion of these timeswhere none will sweat but for promotionand having that do choke their service upeven with the having it is not so with theebut poor old man thou prunest a rotten treethat cannot so much as a blossom yieldin lieu of all thy pains and husbandrybut come thy ways well go along togetherand ere we have thy youthful wages spentwell light upon some settled low contentmaster go on and i will follow theeto the last gasp with truth and loyaltyfrom seventeen years till now almost fourscorehere lived i but now live here no moreat seventeen years many their fortunes seekbut at fourscore it is too late a weekyet fortune cannot recompense me betterthan to die well and not my masters debtori beseech you punish me not with your hardthoughts wherein i confess me much guilty to denyso fair and excellent ladies any thing but letyour fair eyes and gentle wishes go with me to mytrial wherein if i be foiled there is but oneshamed that was never gracious if killed but onedead that was willing to be so i shall do myfriends no wrong for i have none to lament me theworld no injury for in it i have nothing only inthe world i fill up a place which may be bettersupplied when i have made it emptyneither his daughter if we judge by mannersbut yet indeed the lesser is his daughterthe other is daughter to the banishd dukeand here detaind by her usurping uncleto keep his daughter company whose lovesare dearer than the natural bond of sistersbut i can tell you that of late this dukehath taen displeasure gainst his gentle niecegrounded upon no other argumentbut that the people praise her for her virtuesand pity her for her good fathers sakeand on my life his malice gainst the ladywill suddenly break forth sir fare you wellhereafter in a better world than thisi shall desire more love and knowledge of youi did not then entreat to have her stayit was your pleasure and your own remorsei was too young that time to value herbut now i know her if she be a traitorwhy so am i we still have slept togetherrose at an instant learnd playd eat togetherand wheresoever we went like junos swansstill we went coupled and inseparableno hath not rosalind lacks then the lovewhich teacheth thee that thou and i am oneshall we be sunderd shall we part sweet girlno let my father seek another heirtherefore devise with me how we may flywhither to go and what to bear with usand do not seek to take your change upon youto bear your griefs yourself and leave me outfor by this heaven now at our sorrows palesay what thou canst ill go along with thee\n"
     ]
    }
   ],
   "source": [
    "print shakes1"
   ]
  },
  {
   "cell_type": "code",
   "execution_count": 83,
   "metadata": {
    "collapsed": false
   },
   "outputs": [
    {
     "name": "stdout",
     "output_type": "stream",
     "text": [
      "['this', 'young', 'gentlewoman', 'had', 'a', 'fathero', 'thathad', 'how', 'sad', 'a', 'passage', 'tiswhose', 'skill', 'wasalmost', 'as', 'great', 'as', 'his', 'honesty', 'had', 'it', 'stretched', 'sofar', 'would', 'have', 'made', 'nature', 'immortal', 'and', 'deathshould', 'have', 'play', 'for', 'lack', 'of', 'work', 'would', 'for', 'thekings', 'sake', 'he', 'were', 'living', 'i', 'think', 'it', 'would', 'bethe', 'death', 'of', 'the', 'kings', 'diseasehe', 'was', 'excellent', 'indeed', 'madam', 'the', 'king', 'verylately', 'spoke', 'of', 'him', 'admiringly', 'and', 'mourningly', 'hewas', 'skilful', 'enough', 'to', 'have', 'lived', 'still', 'if', 'knowledgecould', 'be', 'set', 'up', 'against', 'mortalityhis', 'sole', 'child', 'my', 'lord', 'and', 'bequeathed', 'to', 'myoverlooking', 'i', 'have', 'those', 'hopes', 'of', 'her', 'good', 'thather', 'education', 'promises', 'her', 'dispositions', 'sheinherits', 'which', 'makes', 'fair', 'gifts', 'fairer', 'for', 'wherean', 'unclean', 'mind', 'carries', 'virtuous', 'qualities', 'therecommendations', 'go', 'with', 'pity', 'they', 'are', 'virtues', 'andtraitors', 'too', 'in', 'her', 'they', 'are', 'the', 'better', 'for', 'theirsimpleness', 'she', 'derives', 'her', 'honesty', 'and', 'achieves', 'her', 'goodnessbe', 'thou', 'blest', 'bertram', 'and', 'succeed', 'thy', 'fatherin', 'manners', 'as', 'in', 'shape', 'thy', 'blood', 'and', 'virtuecontend', 'for', 'empire', 'in', 'thee', 'and', 'thy', 'goodnessshare', 'with', 'thy', 'birthright', 'love', 'all', 'trust', 'a', 'fewdo', 'wrong', 'to', 'none', 'be', 'able', 'for', 'thine', 'enemyrather', 'in', 'power', 'than', 'use', 'and', 'keep', 'thy', 'friendunder', 'thy', 'own', 'lifes', 'key', 'be', 'chequed', 'for', 'silencebut', 'never', 'taxd', 'for', 'speech', 'what', 'heaven', 'more', 'willthat', 'thee', 'may', 'furnish', 'and', 'my', 'prayers', 'pluck', 'downfall', 'on', 'thy', 'head', 'farewell', 'my', 'lordtis', 'an', 'unseasond', 'courtier', 'good', 'my', 'lordadvise', 'himo', 'were', 'that', 'all', 'i', 'think', 'not', 'on', 'my', 'fatherand', 'these', 'great', 'tears', 'grace', 'his', 'remembrance', 'morethan', 'those', 'i', 'shed', 'for', 'him', 'what', 'was', 'he', 'likei', 'have', 'forgot', 'him', 'my', 'imaginationcarries', 'no', 'favour', 'int', 'but', 'bertramsi', 'am', 'undone', 'there', 'is', 'no', 'living', 'noneif', 'bertram', 'be', 'away', 'twere', 'all', 'onethat', 'i', 'should', 'love', 'a', 'bright', 'particular', 'starand', 'think', 'to', 'wed', 'it', 'he', 'is', 'so', 'above', 'mein', 'his', 'bright', 'radiance', 'and', 'collateral', 'lightmust', 'i', 'be', 'comforted', 'not', 'in', 'his', 'spherethe', 'ambition', 'in', 'my', 'love', 'thus', 'plagues', 'itselfthe', 'hind', 'that', 'would', 'be', 'mated', 'by', 'the', 'lionmust', 'die', 'for', 'love', 'twas', 'pretty', 'though', 'plagueto', 'see', 'him', 'every', 'hour', 'to', 'sit', 'and', 'drawhis', 'arched', 'brows', 'his', 'hawking', 'eye', 'his', 'curlsin', 'our', 'hearts', 'table', 'heart', 'too', 'capableof', 'every', 'line', 'and', 'trick', 'of', 'his', 'sweet', 'favourbut', 'now', 'hes', 'gone', 'and', 'my', 'idolatrous', 'fancymust', 'sanctify', 'his', 'reliques', 'who', 'comes', 'heretheres', 'little', 'can', 'be', 'said', 'in', 't', 'tis', 'against', 'therule', 'of', 'nature', 'to', 'speak', 'on', 'the', 'part', 'of', 'virginityis', 'to', 'accuse', 'your', 'mothers', 'which', 'is', 'most', 'infallibledisobedience', 'he', 'that', 'hangs', 'himself', 'is', 'a', 'virginvirginity', 'murders', 'itself', 'and', 'should', 'be', 'buried', 'inhighways', 'out', 'of', 'all', 'sanctified', 'limit', 'as', 'a', 'desperateoffendress', 'against', 'nature', 'virginity', 'breeds', 'mitesmuch', 'like', 'a', 'cheese', 'consumes', 'itself', 'to', 'the', 'veryparing', 'and', 'so', 'dies', 'with', 'feeding', 'his', 'own', 'stomachbesides', 'virginity', 'is', 'peevish', 'proud', 'idle', 'made', 'ofselflove', 'which', 'is', 'the', 'most', 'inhibited', 'sin', 'in', 'thecanon', 'keep', 'it', 'not', 'you', 'can', 'not', 'choose', 'but', 'loosebyt', 'out', 'with', 't', 'within', 'ten', 'year', 'it', 'will', 'makeitself', 'ten', 'which', 'is', 'a', 'goodly', 'increase', 'and', 'theprincipal', 'itself', 'not', 'much', 'the', 'worse', 'away', 'with', 'tour', 'remedies', 'oft', 'in', 'ourselves', 'do', 'liewhich', 'we', 'ascribe', 'to', 'heaven', 'the', 'fated', 'skygives', 'us', 'free', 'scope', 'only', 'doth', 'backward', 'pullour', 'slow', 'designs', 'when', 'we', 'ourselves', 'are', 'dullwhat', 'power', 'is', 'it', 'which', 'mounts', 'my', 'love', 'so', 'highthat', 'makes', 'me', 'see', 'and', 'can', 'not', 'feed', 'mine', 'eyethe', 'mightiest', 'space', 'in', 'fortune', 'nature', 'bringsto', 'join', 'like', 'likes', 'and', 'kiss', 'like', 'native', 'thingsimpossible', 'be', 'strange', 'attempts', 'to', 'thosethat', 'weigh', 'their', 'pains', 'in', 'sense', 'and', 'do', 'supposewhat', 'hath', 'been', 'can', 'not', 'be', 'who', 'ever', 'stroveso', 'show', 'her', 'merit', 'that', 'did', 'miss', 'her', 'lovethe', 'kings', 'diseasemy', 'project', 'may', 'deceive', 'mebut', 'my', 'intents', 'are', 'fixd', 'and', 'will', 'not', 'leave', 'meo', 'yes', 'into', 'a', 'thousand', 'similesfirst', 'for', 'his', 'weeping', 'into', 'the', 'needless', 'streampoor', 'deer', 'quoth', 'he', 'thou', 'makest', 'a', 'testamentas', 'worldlings', 'do', 'giving', 'thy', 'sum', 'of', 'moreto', 'that', 'which', 'had', 'too', 'much', 'then', 'being', 'there', 'aloneleft', 'and', 'abandond', 'of', 'his', 'velvet', 'friendstis', 'right', 'quoth', 'he', 'thus', 'misery', 'doth', 'partthe', 'flux', 'of', 'company', 'anon', 'a', 'careless', 'herdfull', 'of', 'the', 'pasture', 'jumps', 'along', 'by', 'himand', 'never', 'stays', 'to', 'greet', 'him', 'ay', 'quoth', 'jaquessweep', 'on', 'you', 'fat', 'and', 'greasy', 'citizenstis', 'just', 'the', 'fashion', 'wherefore', 'do', 'you', 'lookupon', 'that', 'poor', 'and', 'broken', 'bankrupt', 'therethus', 'most', 'invectively', 'he', 'pierceth', 'throughthe', 'body', 'of', 'the', 'country', 'city', 'courtyea', 'and', 'of', 'this', 'our', 'life', 'swearing', 'that', 'weare', 'mere', 'usurpers', 'tyrants', 'and', 'whats', 'worseto', 'fright', 'the', 'animals', 'and', 'to', 'kill', 'them', 'upin', 'their', 'assignd', 'and', 'native', 'dwellingplacemy', 'lord', 'the', 'roynish', 'clown', 'at', 'whom', 'so', 'oftyour', 'grace', 'was', 'wont', 'to', 'laugh', 'is', 'also', 'missinghisperia', 'the', 'princess', 'gentlewomanconfesses', 'that', 'she', 'secretly', 'oerheardyour', 'daughter', 'and', 'her', 'cousin', 'much', 'commendthe', 'parts', 'and', 'graces', 'of', 'the', 'wrestlerthat', 'did', 'but', 'lately', 'foil', 'the', 'sinewy', 'charlesand', 'she', 'believes', 'wherever', 'they', 'are', 'gonethat', 'youth', 'is', 'surely', 'in', 'their', 'companywhat', 'my', 'young', 'master', 'o', 'my', 'gentle', 'mastero', 'my', 'sweet', 'master', 'o', 'you', 'memoryof', 'old', 'sir', 'rowland', 'why', 'what', 'make', 'you', 'herewhy', 'are', 'you', 'virtuous', 'why', 'do', 'people', 'love', 'youand', 'wherefore', 'are', 'you', 'gentle', 'strong', 'and', 'valiantwhy', 'would', 'you', 'be', 'so', 'fond', 'to', 'overcomethe', 'bonny', 'priser', 'of', 'the', 'humorous', 'dukeyour', 'praise', 'is', 'come', 'too', 'swiftly', 'home', 'before', 'youknow', 'you', 'not', 'master', 'to', 'some', 'kind', 'of', 'mentheir', 'graces', 'serve', 'them', 'but', 'as', 'enemiesno', 'more', 'do', 'yours', 'your', 'virtues', 'gentle', 'masterare', 'sanctified', 'and', 'holy', 'traitors', 'to', 'youo', 'what', 'a', 'world', 'is', 'this', 'when', 'what', 'is', 'comelyenvenoms', 'him', 'that', 'bears', 'itbut', 'do', 'not', 'so', 'i', 'have', 'five', 'hundred', 'crownsthe', 'thrifty', 'hire', 'i', 'saved', 'under', 'your', 'fatherwhich', 'i', 'did', 'store', 'to', 'be', 'my', 'fosternursewhen', 'service', 'should', 'in', 'my', 'old', 'limbs', 'lie', 'lameand', 'unregarded', 'age', 'in', 'corners', 'throwntake', 'that', 'and', 'he', 'that', 'doth', 'the', 'ravens', 'feedyea', 'providently', 'caters', 'for', 'the', 'sparrowbe', 'comfort', 'to', 'my', 'age', 'here', 'is', 'the', 'goldand', 'all', 'this', 'i', 'give', 'you', 'let', 'me', 'be', 'your', 'servantthough', 'i', 'look', 'old', 'yet', 'i', 'am', 'strong', 'and', 'lustyfor', 'in', 'my', 'youth', 'i', 'never', 'did', 'applyhot', 'and', 'rebellious', 'liquors', 'in', 'my', 'bloodnor', 'did', 'not', 'with', 'unbashful', 'forehead', 'woothe', 'means', 'of', 'weakness', 'and', 'debilitytherefore', 'my', 'age', 'is', 'as', 'a', 'lusty', 'winterfrosty', 'but', 'kindly', 'let', 'me', 'go', 'with', 'youill', 'do', 'the', 'service', 'of', 'a', 'younger', 'manin', 'all', 'your', 'business', 'and', 'necessitieso', 'good', 'old', 'man', 'how', 'well', 'in', 'thee', 'appearsthe', 'constant', 'service', 'of', 'the', 'antique', 'worldwhen', 'service', 'sweat', 'for', 'duty', 'not', 'for', 'meedthou', 'art', 'not', 'for', 'the', 'fashion', 'of', 'these', 'timeswhere', 'none', 'will', 'sweat', 'but', 'for', 'promotionand', 'having', 'that', 'do', 'choke', 'their', 'service', 'upeven', 'with', 'the', 'having', 'it', 'is', 'not', 'so', 'with', 'theebut', 'poor', 'old', 'man', 'thou', 'prunest', 'a', 'rotten', 'treethat', 'can', 'not', 'so', 'much', 'as', 'a', 'blossom', 'yieldin', 'lieu', 'of', 'all', 'thy', 'pains', 'and', 'husbandrybut', 'come', 'thy', 'ways', 'well', 'go', 'along', 'togetherand', 'ere', 'we', 'have', 'thy', 'youthful', 'wages', 'spentwell', 'light', 'upon', 'some', 'settled', 'low', 'contentmaster', 'go', 'on', 'and', 'i', 'will', 'follow', 'theeto', 'the', 'last', 'gasp', 'with', 'truth', 'and', 'loyaltyfrom', 'seventeen', 'years', 'till', 'now', 'almost', 'fourscorehere', 'lived', 'i', 'but', 'now', 'live', 'here', 'no', 'moreat', 'seventeen', 'years', 'many', 'their', 'fortunes', 'seekbut', 'at', 'fourscore', 'it', 'is', 'too', 'late', 'a', 'weekyet', 'fortune', 'can', 'not', 'recompense', 'me', 'betterthan', 'to', 'die', 'well', 'and', 'not', 'my', 'masters', 'debtori', 'beseech', 'you', 'punish', 'me', 'not', 'with', 'your', 'hardthoughts', 'wherein', 'i', 'confess', 'me', 'much', 'guilty', 'to', 'denyso', 'fair', 'and', 'excellent', 'ladies', 'any', 'thing', 'but', 'letyour', 'fair', 'eyes', 'and', 'gentle', 'wishes', 'go', 'with', 'me', 'to', 'mytrial', 'wherein', 'if', 'i', 'be', 'foiled', 'there', 'is', 'but', 'oneshamed', 'that', 'was', 'never', 'gracious', 'if', 'killed', 'but', 'onedead', 'that', 'was', 'willing', 'to', 'be', 'so', 'i', 'shall', 'do', 'myfriends', 'no', 'wrong', 'for', 'i', 'have', 'none', 'to', 'lament', 'me', 'theworld', 'no', 'injury', 'for', 'in', 'it', 'i', 'have', 'nothing', 'only', 'inthe', 'world', 'i', 'fill', 'up', 'a', 'place', 'which', 'may', 'be', 'bettersupplied', 'when', 'i', 'have', 'made', 'it', 'emptyneither', 'his', 'daughter', 'if', 'we', 'judge', 'by', 'mannersbut', 'yet', 'indeed', 'the', 'lesser', 'is', 'his', 'daughterthe', 'other', 'is', 'daughter', 'to', 'the', 'banishd', 'dukeand', 'here', 'detaind', 'by', 'her', 'usurping', 'uncleto', 'keep', 'his', 'daughter', 'company', 'whose', 'lovesare', 'dearer', 'than', 'the', 'natural', 'bond', 'of', 'sistersbut', 'i', 'can', 'tell', 'you', 'that', 'of', 'late', 'this', 'dukehath', 'taen', 'displeasure', 'gainst', 'his', 'gentle', 'niecegrounded', 'upon', 'no', 'other', 'argumentbut', 'that', 'the', 'people', 'praise', 'her', 'for', 'her', 'virtuesand', 'pity', 'her', 'for', 'her', 'good', 'fathers', 'sakeand', 'on', 'my', 'life', 'his', 'malice', 'gainst', 'the', 'ladywill', 'suddenly', 'break', 'forth', 'sir', 'fare', 'you', 'wellhereafter', 'in', 'a', 'better', 'world', 'than', 'thisi', 'shall', 'desire', 'more', 'love', 'and', 'knowledge', 'of', 'youi', 'did', 'not', 'then', 'entreat', 'to', 'have', 'her', 'stayit', 'was', 'your', 'pleasure', 'and', 'your', 'own', 'remorsei', 'was', 'too', 'young', 'that', 'time', 'to', 'value', 'herbut', 'now', 'i', 'know', 'her', 'if', 'she', 'be', 'a', 'traitorwhy', 'so', 'am', 'i', 'we', 'still', 'have', 'slept', 'togetherrose', 'at', 'an', 'instant', 'learnd', 'playd', 'eat', 'togetherand', 'wheresoever', 'we', 'went', 'like', 'junos', 'swansstill', 'we', 'went', 'coupled', 'and', 'inseparableno', 'hath', 'not', 'rosalind', 'lacks', 'then', 'the', 'lovewhich', 'teacheth', 'thee', 'that', 'thou', 'and', 'i', 'am', 'oneshall', 'we', 'be', 'sunderd', 'shall', 'we', 'part', 'sweet', 'girlno', 'let', 'my', 'father', 'seek', 'another', 'heirtherefore', 'devise', 'with', 'me', 'how', 'we', 'may', 'flywhither', 'to', 'go', 'and', 'what', 'to', 'bear', 'with', 'usand', 'do', 'not', 'seek', 'to', 'take', 'your', 'change', 'upon', 'youto', 'bear', 'your', 'griefs', 'yourself', 'and', 'leave', 'me', 'outfor', 'by', 'this', 'heaven', 'now', 'at', 'our', 'sorrows', 'palesay', 'what', 'thou', 'canst', 'ill', 'go', 'along', 'with', 'thee']\n"
     ]
    }
   ],
   "source": [
    "tokens = nltk.word_tokenize(shakes1)\n",
    "print tokens"
   ]
  },
  {
   "cell_type": "code",
   "execution_count": 84,
   "metadata": {
    "collapsed": false
   },
   "outputs": [
    {
     "name": "stdout",
     "output_type": "stream",
     "text": [
      "[('and', 48), ('the', 33), ('to', 29), ('i', 26), ('of', 25)]\n"
     ]
    }
   ],
   "source": [
    "count = Counter(tokens)\n",
    "print count.most_common(5)"
   ]
  },
  {
   "cell_type": "markdown",
   "metadata": {},
   "source": [
    "# Part B"
   ]
  },
  {
   "cell_type": "code",
   "execution_count": 85,
   "metadata": {
    "collapsed": true
   },
   "outputs": [],
   "source": [
    "from nltk.corpus import stopwords\n",
    "from nltk.tokenize import wordpunct_tokenize"
   ]
  },
  {
   "cell_type": "code",
   "execution_count": 86,
   "metadata": {
    "collapsed": false
   },
   "outputs": [],
   "source": [
    "stop = set(stopwords.words('english'))"
   ]
  },
  {
   "cell_type": "code",
   "execution_count": 87,
   "metadata": {
    "collapsed": true
   },
   "outputs": [],
   "source": [
    "filtered = [words for words in tokens if words not in stop]"
   ]
  },
  {
   "cell_type": "code",
   "execution_count": 88,
   "metadata": {
    "collapsed": false
   },
   "outputs": [
    {
     "name": "stdout",
     "output_type": "stream",
     "text": [
      "['young', 'gentlewoman', 'fathero', 'thathad', 'sad', 'passage', 'tiswhose', 'skill', 'wasalmost', 'great', 'honesty', 'stretched', 'sofar', 'would', 'made', 'nature', 'immortal', 'deathshould', 'play', 'lack', 'work', 'would', 'thekings', 'sake', 'living', 'think', 'would', 'bethe', 'death', 'kings', 'diseasehe', 'excellent', 'indeed', 'madam', 'king', 'verylately', 'spoke', 'admiringly', 'mourningly', 'hewas', 'skilful', 'enough', 'lived', 'still', 'knowledgecould', 'set', 'mortalityhis', 'sole', 'child', 'lord', 'bequeathed', 'myoverlooking', 'hopes', 'good', 'thather', 'education', 'promises', 'dispositions', 'sheinherits', 'makes', 'fair', 'gifts', 'fairer', 'wherean', 'unclean', 'mind', 'carries', 'virtuous', 'qualities', 'therecommendations', 'go', 'pity', 'virtues', 'andtraitors', 'better', 'theirsimpleness', 'derives', 'honesty', 'achieves', 'goodnessbe', 'thou', 'blest', 'bertram', 'succeed', 'thy', 'fatherin', 'manners', 'shape', 'thy', 'blood', 'virtuecontend', 'empire', 'thee', 'thy', 'goodnessshare', 'thy', 'birthright', 'love', 'trust', 'fewdo', 'wrong', 'none', 'able', 'thine', 'enemyrather', 'power', 'use', 'keep', 'thy', 'friendunder', 'thy', 'lifes', 'key', 'chequed', 'silencebut', 'never', 'taxd', 'speech', 'heaven', 'willthat', 'thee', 'may', 'furnish', 'prayers', 'pluck', 'downfall', 'thy', 'head', 'farewell', 'lordtis', 'unseasond', 'courtier', 'good', 'lordadvise', 'himo', 'think', 'fatherand', 'great', 'tears', 'grace', 'remembrance', 'morethan', 'shed', 'likei', 'forgot', 'imaginationcarries', 'favour', 'int', 'bertramsi', 'undone', 'living', 'noneif', 'bertram', 'away', 'twere', 'onethat', 'love', 'bright', 'particular', 'starand', 'think', 'wed', 'mein', 'bright', 'radiance', 'collateral', 'lightmust', 'comforted', 'spherethe', 'ambition', 'love', 'thus', 'plagues', 'itselfthe', 'hind', 'would', 'mated', 'lionmust', 'die', 'love', 'twas', 'pretty', 'though', 'plagueto', 'see', 'every', 'hour', 'sit', 'drawhis', 'arched', 'brows', 'hawking', 'eye', 'curlsin', 'hearts', 'table', 'heart', 'capableof', 'every', 'line', 'trick', 'sweet', 'favourbut', 'hes', 'gone', 'idolatrous', 'fancymust', 'sanctify', 'reliques', 'comes', 'heretheres', 'little', 'said', 'tis', 'therule', 'nature', 'speak', 'part', 'virginityis', 'accuse', 'mothers', 'infallibledisobedience', 'hangs', 'virginvirginity', 'murders', 'buried', 'inhighways', 'sanctified', 'limit', 'desperateoffendress', 'nature', 'virginity', 'breeds', 'mitesmuch', 'like', 'cheese', 'consumes', 'veryparing', 'dies', 'feeding', 'stomachbesides', 'virginity', 'peevish', 'proud', 'idle', 'made', 'ofselflove', 'inhibited', 'sin', 'thecanon', 'keep', 'choose', 'loosebyt', 'within', 'ten', 'year', 'makeitself', 'ten', 'goodly', 'increase', 'theprincipal', 'much', 'worse', 'away', 'tour', 'remedies', 'oft', 'liewhich', 'ascribe', 'heaven', 'fated', 'skygives', 'us', 'free', 'scope', 'doth', 'backward', 'pullour', 'slow', 'designs', 'dullwhat', 'power', 'mounts', 'love', 'highthat', 'makes', 'see', 'feed', 'mine', 'eyethe', 'mightiest', 'space', 'fortune', 'nature', 'bringsto', 'join', 'like', 'likes', 'kiss', 'like', 'native', 'thingsimpossible', 'strange', 'attempts', 'thosethat', 'weigh', 'pains', 'sense', 'supposewhat', 'hath', 'ever', 'stroveso', 'show', 'merit', 'miss', 'lovethe', 'kings', 'diseasemy', 'project', 'may', 'deceive', 'mebut', 'intents', 'fixd', 'leave', 'meo', 'yes', 'thousand', 'similesfirst', 'weeping', 'needless', 'streampoor', 'deer', 'quoth', 'thou', 'makest', 'testamentas', 'worldlings', 'giving', 'thy', 'sum', 'moreto', 'much', 'aloneleft', 'abandond', 'velvet', 'friendstis', 'right', 'quoth', 'thus', 'misery', 'doth', 'partthe', 'flux', 'company', 'anon', 'careless', 'herdfull', 'pasture', 'jumps', 'along', 'himand', 'never', 'stays', 'greet', 'ay', 'quoth', 'jaquessweep', 'fat', 'greasy', 'citizenstis', 'fashion', 'wherefore', 'lookupon', 'poor', 'broken', 'bankrupt', 'therethus', 'invectively', 'pierceth', 'throughthe', 'body', 'country', 'city', 'courtyea', 'life', 'swearing', 'weare', 'mere', 'usurpers', 'tyrants', 'whats', 'worseto', 'fright', 'animals', 'kill', 'upin', 'assignd', 'native', 'dwellingplacemy', 'lord', 'roynish', 'clown', 'oftyour', 'grace', 'wont', 'laugh', 'also', 'missinghisperia', 'princess', 'gentlewomanconfesses', 'secretly', 'oerheardyour', 'daughter', 'cousin', 'much', 'commendthe', 'parts', 'graces', 'wrestlerthat', 'lately', 'foil', 'sinewy', 'charlesand', 'believes', 'wherever', 'gonethat', 'youth', 'surely', 'companywhat', 'young', 'master', 'gentle', 'mastero', 'sweet', 'master', 'memoryof', 'old', 'sir', 'rowland', 'make', 'herewhy', 'virtuous', 'people', 'love', 'youand', 'wherefore', 'gentle', 'strong', 'valiantwhy', 'would', 'fond', 'overcomethe', 'bonny', 'priser', 'humorous', 'dukeyour', 'praise', 'come', 'swiftly', 'home', 'youknow', 'master', 'kind', 'mentheir', 'graces', 'serve', 'enemiesno', 'virtues', 'gentle', 'masterare', 'sanctified', 'holy', 'traitors', 'youo', 'world', 'comelyenvenoms', 'bears', 'itbut', 'five', 'hundred', 'crownsthe', 'thrifty', 'hire', 'saved', 'fatherwhich', 'store', 'fosternursewhen', 'service', 'old', 'limbs', 'lie', 'lameand', 'unregarded', 'age', 'corners', 'throwntake', 'doth', 'ravens', 'feedyea', 'providently', 'caters', 'sparrowbe', 'comfort', 'age', 'goldand', 'give', 'let', 'servantthough', 'look', 'old', 'yet', 'strong', 'lustyfor', 'youth', 'never', 'applyhot', 'rebellious', 'liquors', 'bloodnor', 'unbashful', 'forehead', 'woothe', 'means', 'weakness', 'debilitytherefore', 'age', 'lusty', 'winterfrosty', 'kindly', 'let', 'go', 'youill', 'service', 'younger', 'manin', 'business', 'necessitieso', 'good', 'old', 'man', 'well', 'thee', 'appearsthe', 'constant', 'service', 'antique', 'worldwhen', 'service', 'sweat', 'duty', 'meedthou', 'art', 'fashion', 'timeswhere', 'none', 'sweat', 'promotionand', 'choke', 'service', 'upeven', 'theebut', 'poor', 'old', 'man', 'thou', 'prunest', 'rotten', 'treethat', 'much', 'blossom', 'yieldin', 'lieu', 'thy', 'pains', 'husbandrybut', 'come', 'thy', 'ways', 'well', 'go', 'along', 'togetherand', 'ere', 'thy', 'youthful', 'wages', 'spentwell', 'light', 'upon', 'settled', 'low', 'contentmaster', 'go', 'follow', 'theeto', 'last', 'gasp', 'truth', 'loyaltyfrom', 'seventeen', 'years', 'till', 'almost', 'fourscorehere', 'lived', 'live', 'moreat', 'seventeen', 'years', 'many', 'fortunes', 'seekbut', 'fourscore', 'late', 'weekyet', 'fortune', 'recompense', 'betterthan', 'die', 'well', 'masters', 'debtori', 'beseech', 'punish', 'hardthoughts', 'wherein', 'confess', 'much', 'guilty', 'denyso', 'fair', 'excellent', 'ladies', 'thing', 'letyour', 'fair', 'eyes', 'gentle', 'wishes', 'go', 'mytrial', 'wherein', 'foiled', 'oneshamed', 'never', 'gracious', 'killed', 'onedead', 'willing', 'shall', 'myfriends', 'wrong', 'none', 'lament', 'theworld', 'injury', 'nothing', 'inthe', 'world', 'fill', 'place', 'may', 'bettersupplied', 'made', 'emptyneither', 'daughter', 'judge', 'mannersbut', 'yet', 'indeed', 'lesser', 'daughterthe', 'daughter', 'banishd', 'dukeand', 'detaind', 'usurping', 'uncleto', 'keep', 'daughter', 'company', 'whose', 'lovesare', 'dearer', 'natural', 'bond', 'sistersbut', 'tell', 'late', 'dukehath', 'taen', 'displeasure', 'gainst', 'gentle', 'niecegrounded', 'upon', 'argumentbut', 'people', 'praise', 'virtuesand', 'pity', 'good', 'fathers', 'sakeand', 'life', 'malice', 'gainst', 'ladywill', 'suddenly', 'break', 'forth', 'sir', 'fare', 'wellhereafter', 'better', 'world', 'thisi', 'shall', 'desire', 'love', 'knowledge', 'youi', 'entreat', 'stayit', 'pleasure', 'remorsei', 'young', 'time', 'value', 'herbut', 'know', 'traitorwhy', 'still', 'slept', 'togetherrose', 'instant', 'learnd', 'playd', 'eat', 'togetherand', 'wheresoever', 'went', 'like', 'junos', 'swansstill', 'went', 'coupled', 'inseparableno', 'hath', 'rosalind', 'lacks', 'lovewhich', 'teacheth', 'thee', 'thou', 'oneshall', 'sunderd', 'shall', 'part', 'sweet', 'girlno', 'let', 'father', 'seek', 'another', 'heirtherefore', 'devise', 'may', 'flywhither', 'go', 'bear', 'usand', 'seek', 'take', 'change', 'upon', 'youto', 'bear', 'griefs', 'leave', 'outfor', 'heaven', 'sorrows', 'palesay', 'thou', 'canst', 'ill', 'go', 'along', 'thee']\n"
     ]
    }
   ],
   "source": [
    "print filtered"
   ]
  },
  {
   "cell_type": "markdown",
   "metadata": {},
   "source": [
    "# Part C"
   ]
  },
  {
   "cell_type": "code",
   "execution_count": 89,
   "metadata": {
    "collapsed": true
   },
   "outputs": [],
   "source": [
    "from nltk.stem.porter import *\n",
    "\n",
    "def stem_tokens(tokens, stemmer):\n",
    "    stemmed = []\n",
    "    for item in tokens:\n",
    "        stemmed.append(stemmer.stem(item))\n",
    "    return stemmed\n",
    "\n",
    "stemmer = PorterStemmer()\n",
    "stemmed = stem_tokens(filtered, stemmer)"
   ]
  },
  {
   "cell_type": "code",
   "execution_count": 90,
   "metadata": {
    "collapsed": false
   },
   "outputs": [
    {
     "name": "stdout",
     "output_type": "stream",
     "text": [
      "['young', 'gentlewoman', 'fathero', 'thathad', 'sad', u'passag', u'tiswhos', 'skill', 'wasalmost', 'great', u'honesti', u'stretch', 'sofar', 'would', 'made', u'natur', u'immort', 'deathshould', 'play', 'lack', 'work', 'would', u'theke', 'sake', u'live', 'think', 'would', u'beth', 'death', u'king', u'diseaseh', u'excel', u'inde', 'madam', 'king', u'veryl', 'spoke', u'admiringli', u'mourningli', u'hewa', u'skil', 'enough', u'live', 'still', 'knowledgecould', 'set', u'mortalityhi', 'sole', 'child', 'lord', u'bequeath', u'myoverlook', u'hope', 'good', 'thather', u'educ', u'promis', u'disposit', u'sheinherit', u'make', 'fair', u'gift', 'fairer', 'wherean', 'unclean', 'mind', u'carri', u'virtuou', u'qualiti', u'therecommend', 'go', u'piti', u'virtu', u'andtraitor', 'better', u'theirsimpl', u'deriv', u'honesti', u'achiev', u'goodnessb', 'thou', 'blest', 'bertram', u'succeed', u'thi', 'fatherin', u'manner', 'shape', u'thi', 'blood', 'virtuecontend', u'empir', 'thee', u'thi', u'goodnessshar', u'thi', 'birthright', 'love', 'trust', 'fewdo', 'wrong', 'none', u'abl', 'thine', u'enemyrath', 'power', 'use', 'keep', u'thi', u'friendund', u'thi', u'life', 'key', u'chequ', 'silencebut', 'never', 'taxd', 'speech', 'heaven', 'willthat', 'thee', 'may', 'furnish', u'prayer', 'pluck', u'downfal', u'thi', 'head', u'farewel', u'lordti', 'unseasond', 'courtier', 'good', u'lordadvis', 'himo', 'think', 'fatherand', 'great', u'tear', 'grace', u'remembr', 'morethan', 'shed', 'likei', 'forgot', u'imaginationcarri', 'favour', 'int', 'bertramsi', u'undon', u'live', 'noneif', 'bertram', 'away', 'twere', 'onethat', 'love', 'bright', 'particular', 'starand', 'think', 'wed', 'mein', 'bright', u'radianc', u'collater', 'lightmust', u'comfort', u'sphereth', u'ambit', 'love', u'thu', u'plagu', u'itselfth', 'hind', 'would', u'mate', 'lionmust', 'die', 'love', u'twa', u'pretti', 'though', 'plagueto', 'see', u'everi', 'hour', 'sit', u'drawhi', u'arch', u'brow', u'hawk', 'eye', 'curlsin', u'heart', u'tabl', 'heart', 'capableof', u'everi', 'line', 'trick', 'sweet', 'favourbut', u'he', 'gone', u'idolatr', 'fancymust', u'sanctifi', u'reliqu', u'come', u'herether', u'littl', 'said', u'ti', u'therul', u'natur', 'speak', 'part', u'virginityi', u'accus', u'mother', u'infallibledisobedi', u'hang', u'virginvirgin', u'murder', u'buri', u'inhighway', u'sanctifi', 'limit', u'desperateoffendress', u'natur', u'virgin', u'breed', 'mitesmuch', 'like', u'chees', u'consum', u'verypar', u'die', u'feed', u'stomachbesid', u'virgin', 'peevish', 'proud', u'idl', 'made', u'ofselflov', u'inhibit', 'sin', 'thecanon', 'keep', u'choos', 'loosebyt', 'within', 'ten', 'year', 'makeitself', 'ten', u'goodli', u'increas', u'theprincip', 'much', u'wors', 'away', 'tour', u'remedi', 'oft', 'liewhich', u'ascrib', 'heaven', u'fate', u'skygiv', 'us', 'free', 'scope', 'doth', 'backward', 'pullour', 'slow', u'design', 'dullwhat', 'power', u'mount', 'love', 'highthat', u'make', 'see', 'feed', 'mine', u'eyeth', 'mightiest', 'space', u'fortun', u'natur', 'bringsto', 'join', 'like', u'like', u'kiss', 'like', u'nativ', u'thingsimposs', u'strang', u'attempt', 'thosethat', 'weigh', u'pain', u'sens', 'supposewhat', 'hath', 'ever', 'stroveso', 'show', 'merit', u'miss', u'loveth', u'king', u'diseasemi', 'project', 'may', u'deceiv', 'mebut', u'intent', 'fixd', u'leav', 'meo', u'ye', 'thousand', 'similesfirst', u'weep', u'needless', 'streampoor', 'deer', 'quoth', 'thou', 'makest', u'testamenta', u'worldl', u'give', u'thi', 'sum', 'moreto', 'much', 'aloneleft', 'abandond', 'velvet', u'friendsti', 'right', 'quoth', u'thu', u'miseri', 'doth', u'partth', 'flux', u'compani', 'anon', u'careless', u'herdful', u'pastur', u'jump', 'along', 'himand', 'never', u'stay', 'greet', 'ay', 'quoth', 'jaquessweep', 'fat', u'greasi', u'citizensti', 'fashion', u'wherefor', 'lookupon', 'poor', 'broken', 'bankrupt', u'therethu', u'invect', 'pierceth', u'throughth', u'bodi', u'countri', u'citi', 'courtyea', 'life', u'swear', u'wear', 'mere', u'usurp', u'tyrant', u'what', 'worseto', 'fright', u'anim', 'kill', 'upin', 'assignd', u'nativ', u'dwellingplacemi', 'lord', 'roynish', 'clown', 'oftyour', 'grace', 'wont', 'laugh', 'also', 'missinghisperia', u'princess', u'gentlewomanconfess', u'secretli', 'oerheardyour', 'daughter', 'cousin', 'much', u'commendth', u'part', u'grace', 'wrestlerthat', u'late', 'foil', u'sinewi', 'charlesand', u'believ', u'wherev', 'gonethat', 'youth', u'sure', 'companywhat', 'young', 'master', u'gentl', 'mastero', 'sweet', 'master', 'memoryof', 'old', 'sir', 'rowland', 'make', u'herewhi', u'virtuou', u'peopl', 'love', 'youand', u'wherefor', u'gentl', 'strong', u'valiantwhi', 'would', 'fond', u'overcometh', u'bonni', 'priser', u'humor', 'dukeyour', u'prais', 'come', u'swiftli', 'home', 'youknow', 'master', 'kind', 'mentheir', u'grace', u'serv', 'enemiesno', u'virtu', u'gentl', u'masterar', u'sanctifi', u'holi', u'traitor', 'youo', 'world', u'comelyenvenom', u'bear', 'itbut', 'five', u'hundr', u'crownsth', u'thrifti', 'hire', u'save', 'fatherwhich', 'store', 'fosternursewhen', u'servic', 'old', u'limb', 'lie', 'lameand', u'unregard', 'age', u'corner', u'throwntak', 'doth', u'raven', 'feedyea', u'provid', u'cater', u'sparrowb', 'comfort', 'age', 'goldand', 'give', 'let', 'servantthough', 'look', 'old', 'yet', 'strong', 'lustyfor', 'youth', 'never', 'applyhot', u'rebelli', u'liquor', 'bloodnor', u'unbash', 'forehead', u'wooth', u'mean', u'weak', u'debilitytherefor', 'age', u'lusti', u'winterfrosti', u'kindli', 'let', 'go', 'youill', u'servic', 'younger', 'manin', u'busi', 'necessitieso', 'good', 'old', 'man', 'well', 'thee', u'appearsth', 'constant', u'servic', u'antiqu', 'worldwhen', u'servic', 'sweat', u'duti', 'meedthou', 'art', 'fashion', u'timeswher', 'none', 'sweat', 'promotionand', 'choke', u'servic', 'upeven', 'theebut', 'poor', 'old', 'man', 'thou', 'prunest', 'rotten', 'treethat', 'much', 'blossom', 'yieldin', 'lieu', u'thi', u'pain', 'husbandrybut', 'come', u'thi', u'way', 'well', 'go', 'along', 'togetherand', 'ere', u'thi', u'youth', u'wage', u'spentwel', 'light', 'upon', u'settl', 'low', u'contentmast', 'go', 'follow', 'theeto', 'last', 'gasp', 'truth', 'loyaltyfrom', 'seventeen', u'year', 'till', 'almost', u'fourscoreher', u'live', 'live', 'moreat', 'seventeen', u'year', u'mani', u'fortun', 'seekbut', u'fourscor', 'late', 'weekyet', u'fortun', u'recompens', 'betterthan', 'die', 'well', u'master', 'debtori', 'beseech', 'punish', u'hardthought', 'wherein', u'confess', 'much', u'guilti', 'denyso', 'fair', u'excel', u'ladi', 'thing', 'letyour', 'fair', u'eye', u'gentl', u'wish', 'go', 'mytrial', 'wherein', u'foil', u'onesham', 'never', u'graciou', u'kill', 'onedead', u'will', 'shall', u'myfriend', 'wrong', 'none', 'lament', 'theworld', u'injuri', u'noth', u'inth', 'world', 'fill', 'place', 'may', u'bettersuppli', 'made', u'emptyneith', 'daughter', u'judg', 'mannersbut', 'yet', u'inde', 'lesser', u'daughterth', 'daughter', 'banishd', 'dukeand', 'detaind', u'usurp', 'uncleto', 'keep', 'daughter', u'compani', 'whose', u'lovesar', 'dearer', u'natur', 'bond', 'sistersbut', 'tell', 'late', 'dukehath', 'taen', u'displeasur', 'gainst', u'gentl', u'nieceground', 'upon', 'argumentbut', u'peopl', u'prais', 'virtuesand', u'piti', 'good', u'father', 'sakeand', 'life', u'malic', 'gainst', u'ladywil', u'suddenli', 'break', 'forth', 'sir', 'fare', u'wellhereaft', 'better', 'world', 'thisi', 'shall', u'desir', 'love', u'knowledg', 'youi', 'entreat', 'stayit', u'pleasur', 'remorsei', 'young', 'time', u'valu', 'herbut', 'know', u'traitorwhi', 'still', 'slept', u'togetherros', 'instant', 'learnd', 'playd', 'eat', 'togetherand', u'wheresoev', 'went', 'like', u'juno', u'swansstil', 'went', u'coupl', 'inseparableno', 'hath', 'rosalind', u'lack', 'lovewhich', 'teacheth', 'thee', 'thou', u'oneshal', 'sunderd', 'shall', 'part', 'sweet', 'girlno', 'let', 'father', 'seek', u'anoth', u'heirtherefor', u'devis', 'may', u'flywhith', 'go', 'bear', 'usand', 'seek', 'take', u'chang', 'upon', 'youto', 'bear', u'grief', u'leav', 'outfor', 'heaven', u'sorrow', 'palesay', 'thou', 'canst', 'ill', 'go', 'along', 'thee']\n"
     ]
    }
   ],
   "source": [
    "print stemmed"
   ]
  },
  {
   "cell_type": "markdown",
   "metadata": {},
   "source": [
    "# Part D"
   ]
  },
  {
   "cell_type": "code",
   "execution_count": 91,
   "metadata": {
    "collapsed": false
   },
   "outputs": [
    {
     "ename": "ImportError",
     "evalue": "No module named TfidfVectorizer",
     "output_type": "error",
     "traceback": [
      "\u001b[0;31m---------------------------------------------------------------------------\u001b[0m",
      "\u001b[0;31mImportError\u001b[0m                               Traceback (most recent call last)",
      "\u001b[0;32m<ipython-input-91-5139175f99ae>\u001b[0m in \u001b[0;36m<module>\u001b[0;34m()\u001b[0m\n\u001b[1;32m      1\u001b[0m \u001b[0;32mimport\u001b[0m \u001b[0msklearn\u001b[0m\u001b[0;34m.\u001b[0m\u001b[0mfeature_extraction\u001b[0m\u001b[0;34m\u001b[0m\u001b[0m\n\u001b[1;32m      2\u001b[0m \u001b[0;32mfrom\u001b[0m \u001b[0msklearn\u001b[0m\u001b[0;34m.\u001b[0m\u001b[0mfeature_extraction\u001b[0m \u001b[0;32mimport\u001b[0m \u001b[0mstop_words\u001b[0m\u001b[0;34m\u001b[0m\u001b[0m\n\u001b[0;32m----> 3\u001b[0;31m \u001b[0;32mimport\u001b[0m \u001b[0msklearn\u001b[0m\u001b[0;34m.\u001b[0m\u001b[0mfeature_extraction\u001b[0m\u001b[0;34m.\u001b[0m\u001b[0mtext\u001b[0m\u001b[0;34m.\u001b[0m\u001b[0mTfidfVectorizer\u001b[0m\u001b[0;34m\u001b[0m\u001b[0m\n\u001b[0m",
      "\u001b[0;31mImportError\u001b[0m: No module named TfidfVectorizer"
     ]
    }
   ],
   "source": [
    "import sklearn.feature_extraction\n",
    "from sklearn.feature_extraction import stop_words\n",
    "import sklearn.feature_extraction.text.TfidfVectorizer"
   ]
  },
  {
   "cell_type": "code",
   "execution_count": 92,
   "metadata": {
    "collapsed": false
   },
   "outputs": [],
   "source": [
    "stop = stop_words.ENGLISH_STOP_WORDS"
   ]
  },
  {
   "cell_type": "code",
   "execution_count": 93,
   "metadata": {
    "collapsed": false
   },
   "outputs": [],
   "source": [
    "shakes1 = open('shakes1.txt','r')\n",
    "shakes1 = [shakes1.strip('\\n') for shakes1 in shakes1]\n",
    "shakes1 = ''.join(shakes1)\n",
    "exclude = set(string.punctuation)\n",
    "shakes1 = ''.join(ch for ch in shakes1 if ch not in exclude)\n",
    "shakes1 = shakes1.lower()\n",
    "tokens = nltk.word_tokenize(shakes1)"
   ]
  },
  {
   "cell_type": "code",
   "execution_count": 94,
   "metadata": {
    "collapsed": false
   },
   "outputs": [
    {
     "ename": "NameError",
     "evalue": "name 'TfidfVectorizer' is not defined",
     "output_type": "error",
     "traceback": [
      "\u001b[0;31m---------------------------------------------------------------------------\u001b[0m",
      "\u001b[0;31mNameError\u001b[0m                                 Traceback (most recent call last)",
      "\u001b[0;32m<ipython-input-94-09224cfbc367>\u001b[0m in \u001b[0;36m<module>\u001b[0;34m()\u001b[0m\n\u001b[1;32m      2\u001b[0m \u001b[0mstemmer\u001b[0m \u001b[0;34m=\u001b[0m \u001b[0mPorterStemmer\u001b[0m\u001b[0;34m(\u001b[0m\u001b[0;34m)\u001b[0m\u001b[0;34m\u001b[0m\u001b[0m\n\u001b[1;32m      3\u001b[0m \u001b[0mstemmed\u001b[0m \u001b[0;34m=\u001b[0m \u001b[0mstem_tokens\u001b[0m\u001b[0;34m(\u001b[0m\u001b[0mfiltered\u001b[0m\u001b[0;34m,\u001b[0m \u001b[0mstemmer\u001b[0m\u001b[0;34m)\u001b[0m\u001b[0;34m\u001b[0m\u001b[0m\n\u001b[0;32m----> 4\u001b[0;31m \u001b[0mvectorizer\u001b[0m \u001b[0;34m=\u001b[0m \u001b[0mTfidfVectorizer\u001b[0m\u001b[0;34m(\u001b[0m\u001b[0;34m)\u001b[0m\u001b[0;34m\u001b[0m\u001b[0m\n\u001b[0m",
      "\u001b[0;31mNameError\u001b[0m: name 'TfidfVectorizer' is not defined"
     ]
    }
   ],
   "source": [
    "filtered = [words for words in tokens if words not in stop]\n",
    "stemmer = PorterStemmer()\n",
    "stemmed = stem_tokens(filtered, stemmer)\n",
    "vectorizer = TfidfVectorizer()\n"
   ]
  },
  {
   "cell_type": "markdown",
   "metadata": {},
   "source": [
    "# I am unable to go further than this. I cannot resolve being unable to import TfidfVectorizer"
   ]
  }
 ],
 "metadata": {
  "kernelspec": {
   "display_name": "Python [Root]",
   "language": "python",
   "name": "Python [Root]"
  },
  "language_info": {
   "codemirror_mode": {
    "name": "ipython",
    "version": 2
   },
   "file_extension": ".py",
   "mimetype": "text/x-python",
   "name": "python",
   "nbconvert_exporter": "python",
   "pygments_lexer": "ipython2",
   "version": "2.7.12"
  }
 },
 "nbformat": 4,
 "nbformat_minor": 0
}
