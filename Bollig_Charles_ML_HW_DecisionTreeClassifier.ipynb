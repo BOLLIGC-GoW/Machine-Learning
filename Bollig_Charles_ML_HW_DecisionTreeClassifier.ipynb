{
 "cells": [
  {
   "cell_type": "code",
   "execution_count": 457,
   "metadata": {
    "collapsed": false
   },
   "outputs": [],
   "source": [
    "from sklearn import tree\n",
    "from sklearn import datasets\n",
    "from sklearn import metrics\n",
    "from patsy import dmatrices\n",
    "from sklearn.cross_validation import train_test_split\n",
    "\n",
    "import math as mt\n",
    "import numpy as np\n",
    "import pandas as pd"
   ]
  },
  {
   "cell_type": "markdown",
   "metadata": {},
   "source": [
    "# Problem 1"
   ]
  },
  {
   "cell_type": "code",
   "execution_count": 458,
   "metadata": {
    "collapsed": false
   },
   "outputs": [
    {
     "name": "stdout",
     "output_type": "stream",
     "text": [
      "['No', 'No', 'Yes', 'Yes', 'Yes', 'No', 'Yes', 'No', 'Yes', 'Yes', 'Yes', 'Yes', 'Yes', 'No']\n"
     ]
    }
   ],
   "source": [
    "#I tried to do this by hand. I wasted 3 hours. I'm going to do it this way\n",
    "tennis = pd.read_csv('Data/Tennis.csv')\n",
    "print tennis['PlayTennis'].values.tolist()"
   ]
  },
  {
   "cell_type": "code",
   "execution_count": 560,
   "metadata": {
    "collapsed": false
   },
   "outputs": [],
   "source": [
    "def entropy(Prob):\n",
    "    if Prob == 0 or Prob== 1:\n",
    "        return 0.0;\n",
    "    entropy  = float(-(Prob*np.log2(Prob))-((1-Prob)*np.log2(1-Prob)))\n",
    "    #print entropy\n",
    "    return entropy\n",
    "\n",
    "def IG2(IPAR,DPAREN,ILEFT,DLEFT,IRIGHT,DRIGHT):\n",
    "    print \"DPar: \",DPAREN,\"IPAR: \",IPAR,\"DLEFT: \",DLEFT,\"ILEFT: \",ILEFT,\"DRIGHT: \",DRIGHT,\"IRIGHT:\",IRIGHT\n",
    "    InfoGain = IPAR - ((DLEFT/DPAREN)*ILEFT) - ((DRIGHT/DPAREN)*IRIGHT)\n",
    "    #print InfoGain\n",
    "    return InfoGain\n",
    "\n",
    "def IG3(IPAR,DPAREN,ILEFT,DLEFT,IMIDDLE,DMIDDLE,IRIGHT,DRIGHT):\n",
    "    #print DPAREN,IPAR,DLEFT,ILEFT,DMIDDLE,IMIDDLE,DRIGHT,IRIGHT\n",
    "    InfoGain = IPAR - ((DLEFT/DPAREN)*ILEFT) - ((DMIDDLE/DPAREN)*IMIDDLE) - ((DRIGHT/DPAREN)*IRIGHT)\n",
    "    #print InfoGain\n",
    "    return InfoGain\n",
    "\n",
    "def E2(ILEFT,PLEFT,IRIGHT,PRIGHT):\n",
    "    print ILEFT ,\" x \", PLEFT ,\" + \", IRIGHT , \" x \", PRIGHT\n",
    "    E = float(ILEFT*PLEFT + IRIGHT*PRIGHT)\n",
    "    return E\n",
    "\n",
    "def E3(ILEFT,PLEFT,IMIDDLE,PMIDDLE,IRIGHT,PRIGHT):\n",
    "    print ILEFT ,\" x \", PLEFT ,\" + \", IMIDDLE ,\" x \", PMIDDLE ,\" + \", IRIGHT , \" x \", PRIGHT\n",
    "    E = float(ILEFT*PLEFT + IMIDDLE*PMIDDLE + IRIGHT*PRIGHT)\n",
    "    return E"
   ]
  },
  {
   "cell_type": "code",
   "execution_count": 561,
   "metadata": {
    "collapsed": false
   },
   "outputs": [
    {
     "data": {
      "text/html": [
       "<div>\n",
       "<table border=\"1\" class=\"dataframe\">\n",
       "  <thead>\n",
       "    <tr style=\"text-align: right;\">\n",
       "      <th></th>\n",
       "      <th>Outlook</th>\n",
       "      <th>Temperature</th>\n",
       "      <th>Humidity</th>\n",
       "      <th>Wind</th>\n",
       "      <th>PlayTennis</th>\n",
       "    </tr>\n",
       "  </thead>\n",
       "  <tbody>\n",
       "    <tr>\n",
       "      <th>0</th>\n",
       "      <td>Sunny</td>\n",
       "      <td>Hot</td>\n",
       "      <td>High</td>\n",
       "      <td>Weak</td>\n",
       "      <td>No</td>\n",
       "    </tr>\n",
       "    <tr>\n",
       "      <th>1</th>\n",
       "      <td>Sunny</td>\n",
       "      <td>Hot</td>\n",
       "      <td>High</td>\n",
       "      <td>Strong</td>\n",
       "      <td>No</td>\n",
       "    </tr>\n",
       "    <tr>\n",
       "      <th>2</th>\n",
       "      <td>Overcast</td>\n",
       "      <td>Hot</td>\n",
       "      <td>High</td>\n",
       "      <td>Weak</td>\n",
       "      <td>Yes</td>\n",
       "    </tr>\n",
       "    <tr>\n",
       "      <th>3</th>\n",
       "      <td>Rain</td>\n",
       "      <td>Mild</td>\n",
       "      <td>High</td>\n",
       "      <td>Weak</td>\n",
       "      <td>Yes</td>\n",
       "    </tr>\n",
       "    <tr>\n",
       "      <th>4</th>\n",
       "      <td>Rain</td>\n",
       "      <td>Cool</td>\n",
       "      <td>Normal</td>\n",
       "      <td>Weak</td>\n",
       "      <td>Yes</td>\n",
       "    </tr>\n",
       "    <tr>\n",
       "      <th>5</th>\n",
       "      <td>Rain</td>\n",
       "      <td>Cool</td>\n",
       "      <td>Normal</td>\n",
       "      <td>Strong</td>\n",
       "      <td>No</td>\n",
       "    </tr>\n",
       "    <tr>\n",
       "      <th>6</th>\n",
       "      <td>Overcast</td>\n",
       "      <td>Cool</td>\n",
       "      <td>Normal</td>\n",
       "      <td>Strong</td>\n",
       "      <td>Yes</td>\n",
       "    </tr>\n",
       "    <tr>\n",
       "      <th>7</th>\n",
       "      <td>Sunny</td>\n",
       "      <td>Mild</td>\n",
       "      <td>High</td>\n",
       "      <td>Weak</td>\n",
       "      <td>No</td>\n",
       "    </tr>\n",
       "    <tr>\n",
       "      <th>8</th>\n",
       "      <td>Sunny</td>\n",
       "      <td>Cool</td>\n",
       "      <td>Normal</td>\n",
       "      <td>Weak</td>\n",
       "      <td>Yes</td>\n",
       "    </tr>\n",
       "    <tr>\n",
       "      <th>9</th>\n",
       "      <td>Rain</td>\n",
       "      <td>Mild</td>\n",
       "      <td>Normal</td>\n",
       "      <td>Weak</td>\n",
       "      <td>Yes</td>\n",
       "    </tr>\n",
       "    <tr>\n",
       "      <th>10</th>\n",
       "      <td>Sunny</td>\n",
       "      <td>Mild</td>\n",
       "      <td>Normal</td>\n",
       "      <td>Strong</td>\n",
       "      <td>Yes</td>\n",
       "    </tr>\n",
       "    <tr>\n",
       "      <th>11</th>\n",
       "      <td>Overcast</td>\n",
       "      <td>Mild</td>\n",
       "      <td>High</td>\n",
       "      <td>Strong</td>\n",
       "      <td>Yes</td>\n",
       "    </tr>\n",
       "    <tr>\n",
       "      <th>12</th>\n",
       "      <td>Overcast</td>\n",
       "      <td>Hot</td>\n",
       "      <td>Normal</td>\n",
       "      <td>Weak</td>\n",
       "      <td>Yes</td>\n",
       "    </tr>\n",
       "    <tr>\n",
       "      <th>13</th>\n",
       "      <td>Rain</td>\n",
       "      <td>Mild</td>\n",
       "      <td>High</td>\n",
       "      <td>Strong</td>\n",
       "      <td>No</td>\n",
       "    </tr>\n",
       "  </tbody>\n",
       "</table>\n",
       "</div>"
      ],
      "text/plain": [
       "     Outlook Temperature Humidity    Wind PlayTennis\n",
       "0      Sunny         Hot     High    Weak         No\n",
       "1      Sunny         Hot     High  Strong         No\n",
       "2   Overcast         Hot     High    Weak        Yes\n",
       "3       Rain        Mild     High    Weak        Yes\n",
       "4       Rain        Cool   Normal    Weak        Yes\n",
       "5       Rain        Cool   Normal  Strong         No\n",
       "6   Overcast        Cool   Normal  Strong        Yes\n",
       "7      Sunny        Mild     High    Weak         No\n",
       "8      Sunny        Cool   Normal    Weak        Yes\n",
       "9       Rain        Mild   Normal    Weak        Yes\n",
       "10     Sunny        Mild   Normal  Strong        Yes\n",
       "11  Overcast        Mild     High  Strong        Yes\n",
       "12  Overcast         Hot   Normal    Weak        Yes\n",
       "13      Rain        Mild     High  Strong         No"
      ]
     },
     "execution_count": 561,
     "metadata": {},
     "output_type": "execute_result"
    }
   ],
   "source": [
    "raw_data_tennis= {'Outlook': ['Sunny', 'Sunny', 'Overcast', 'Rain', 'Rain', 'Rain', 'Overcast', 'Sunny', 'Sunny', 'Rain', 'Sunny', 'Overcast', 'Overcast', 'Rain'],\n",
    "                  'Temperature': ['Hot', 'Hot', 'Hot', 'Mild', 'Cool', 'Cool', 'Cool', 'Mild', 'Cool', 'Mild', 'Mild', 'Mild', 'Hot', 'Mild'],\n",
    "                  'Humidity' : ['High', 'High', 'High', 'High', 'Normal', 'Normal', 'Normal', 'High', 'Normal', 'Normal', 'Normal', 'High', 'Normal', 'High'],\n",
    "                  'Wind': ['Weak', 'Strong', 'Weak', 'Weak', 'Weak', 'Strong', 'Strong', 'Weak', 'Weak', 'Weak', 'Strong', 'Strong', 'Weak', 'Strong'],\n",
    "                  'PlayTennis' : ['No', 'No', 'Yes', 'Yes', 'Yes', 'No', 'Yes', 'No', 'Yes', 'Yes', 'Yes', 'Yes', 'Yes', 'No']}\n",
    "\n",
    "tennis = pd.DataFrame(raw_data_tennis, columns = ['Outlook', 'Temperature', 'Humidity', 'Wind','PlayTennis'])\n",
    "Weak =  tennis.groupby(['Wind','PlayTennis']).get_group(('Weak','Yes'))\n",
    "tennis"
   ]
  },
  {
   "cell_type": "code",
   "execution_count": 562,
   "metadata": {
    "collapsed": false
   },
   "outputs": [
    {
     "name": "stdout",
     "output_type": "stream",
     "text": [
      "At root node (Level 0)\n",
      "Distribution of playTennis rate at root: 0.94\n",
      "0.970950594455  x  0.4  +  0.0  x  1.0  +  0.970950594455  x  0.6\n",
      "IG:  -0.030664635784\n",
      "0.721928094887  x  0.8  +  nan  x  1.2  +  nan  x  4.0\n",
      "IG:  nan\n",
      "nan  x  1.4  +  nan  x  1.4\n",
      "IG:  nan\n",
      "nan  x  1.2  +  nan  x  1.6\n",
      "IG:  nan\n",
      "\n",
      "We split on  -> 3 nodes\n"
     ]
    }
   ],
   "source": [
    "#Entropy of PlayTennis\n",
    "RootTotal = len(tennis)\n",
    "yesTenn =  tennis.groupby(['PlayTennis']).get_group('Yes')\n",
    "noTenn =  tennis.groupby(['PlayTennis']).get_group('No')\n",
    "p = float(len(yesTenn))/RootTotal\n",
    "ITennisRate = entropy(p)\n",
    "print \"At root node (Level 0)\"\n",
    "print \"Distribution of playTennis rate at root: %0.2f\" % (ITennisRate)\n",
    "# -------------------------------\n",
    "#Splitting according to outlook\n",
    "Sunny =  tennis.groupby(['Outlook','PlayTennis']).get_group(('Sunny','Yes'))\n",
    "nSunny =  tennis.groupby(['Outlook','PlayTennis']).get_group(('Sunny','No'))\n",
    "Overcast =  tennis.groupby(['Outlook','PlayTennis']).get_group(('Overcast','Yes'))\n",
    "#nOvercast =  tennis.groupby(['Outlook','PlayTennis']).get_group(('Overcast','No'))\n",
    "Rain =  tennis.groupby(['Outlook','PlayTennis']).get_group(('Rain','Yes'))\n",
    "nRain =  tennis.groupby(['Outlook','PlayTennis']).get_group(('Rain','No'))\n",
    "\n",
    "#Outlook = Sunny Node\n",
    "total = len(Sunny) + len(nSunny)\n",
    "p_Sunny = float(len(Sunny))/total\n",
    "ISunny = entropy(p_Sunny)\n",
    "\n",
    "#Outlook = Overcast Node\n",
    "#total = len(Overcast) + len(nOvercast)\n",
    "p_Overcast = float(len(Overcast))/4\n",
    "IOvercast = entropy(p_Overcast)\n",
    "\n",
    "#Outlook = Rain Node\n",
    "total = len(Rain) + len(nRain)\n",
    "p_Rain = float(len(Rain))/total\n",
    "IRain = entropy(p_Rain)\n",
    "\n",
    "#Information Gain  - Outlook (3)\n",
    "EOutlook = E3(ISunny,p_Sunny,IOvercast,p_Overcast,IRain,p_Rain)\n",
    "IG = ITennisRate - EOutlook\n",
    "print \"IG: \" ,IG                                                           \n",
    "#print \"Info Gain from Outlook: %0.2f\" % (IG3(ITennisRate,total,ISunny,len(Sunny),IOvercast,len(Overcast),IRain,len(Rain)))\n",
    "#---------------------------------\n",
    "#Splitting according to Temperature\n",
    "Hot =  tennis.groupby(['Temperature']).get_group('Hot')\n",
    "Mild =  tennis.groupby(['Temperature']).get_group('Mild')\n",
    "Cool =  tennis.groupby(['Temperature']).get_group('Cool')\n",
    "\n",
    "#Temp = Sunny Node\n",
    "p_Hot = float(len(Hot))/total\n",
    "IHot = entropy(p_Hot)\n",
    "\n",
    "#Temp = Overcast Node\n",
    "p_Mild = float(len(Mild))/total\n",
    "IMild = entropy(p_Mild)\n",
    "\n",
    "#Temp = Rain Node\n",
    "p_Cool = float(len(Cool))/len(nCool)\n",
    "ICool = entropy(p_Cool)\n",
    "\n",
    "#Information Gain  - Temperature (3)\n",
    "EOutlook = E3(IHot,p_Hot,IMild,p_Mild,ICool,p_Cool)\n",
    "IG = ITennisRate - EOutlook\n",
    "print \"IG: \" ,IG     \n",
    "#print \"Info Gain from Temperature: %0.2f\" % (IG3(ITennisRate,total,IHot,len(Hot),IMild,len(Mild),ICool,len(Cool)))\n",
    "#---------------------------------\n",
    "#Splitting according to Humidity\n",
    "High =  tennis.groupby(['Humidity']).get_group('High')\n",
    "Normal =  tennis.groupby(['Humidity']).get_group('Normal')\n",
    "\n",
    "#Humidity = High Node\n",
    "p_High = float(len(High))/total\n",
    "IHigh = entropy(p_High)\n",
    "\n",
    "#Humidity = Normal Node\n",
    "p_Normal = float(len(Normal))/total\n",
    "INormal = entropy(p_Normal)\n",
    "\n",
    "#Information Gain  - Weather (3)\n",
    "EOutlook = E2(IHigh,p_High,INormal,p_Normal)\n",
    "IG = ITennisRate - EOutlook\n",
    "print \"IG: \" ,IG   \n",
    "#print \"Info Gain from Humidity: %0.2f\" % (IG2(ITennisRate,total,IHigh,len(High),INormal,len(Normal)))\n",
    "#---------------------------------\n",
    "#Splitting according to Wind\n",
    "Strong =  tennis.groupby(['Wind']).get_group('Strong')\n",
    "Weak =  tennis.groupby(['Wind']).get_group('Weak')\n",
    "\n",
    "#Wind = Strong Node\n",
    "p_Strong = float(len(Strong))/total\n",
    "IStrong = entropy(p_Strong)\n",
    "\n",
    "#Wind = Weak Node\n",
    "p_Weak = float(len(Weak))/total\n",
    "IWeak = entropy(p_Weak)\n",
    "                                        \n",
    "#Information Gain  - Weather (3)\n",
    "EOutlook = E2(IStrong,p_Strong,IWeak,p_Weak)\n",
    "IG = ITennisRate - EOutlook\n",
    "print \"IG: \" ,IG   \n",
    "#print \"Info Gain from Humidity: %0.2f\" % (IG2(ITennisRate,total,IStrong,len(Strong),IWeak,len(Weak)))\n",
    "print \"\"\n",
    "print\"We split on  -> 3 nodes\""
   ]
  },
  {
   "cell_type": "code",
   "execution_count": 572,
   "metadata": {
    "collapsed": false
   },
   "outputs": [
    {
     "name": "stdout",
     "output_type": "stream",
     "text": [
      "A Tree\n"
     ]
    }
   ],
   "source": [
    "print \"A Tree\"\n"
   ]
  },
  {
   "cell_type": "markdown",
   "metadata": {},
   "source": [
    "# Problem 2"
   ]
  },
  {
   "cell_type": "code",
   "execution_count": 568,
   "metadata": {
    "collapsed": false
   },
   "outputs": [],
   "source": [
    "#The first problem took me 3hrs to do (to attempt) by-hand... I have 7 classes... Not doing that again...\n",
    "\n",
    "def entropy(P):\n",
    "    if p == 0.0 or p== 1.0:\n",
    "        return 0.0;\n",
    "    return float((-p*np.log2(p))-((1-p)*np.log2(1-p)))\n",
    "\n",
    "def IG(DPAREN,IPAR,ILEFT,DLEFT,IRIGHT,DRIGHT):\n",
    "    #print DPAREN,IPAR,DLEFT,ILEFT,DRIGHT,IRIGHT\n",
    "    InfoGain = IPAR - (DLEFT/DPAREN)*ILEFT - (DRIGHT/DPAREN)*IRIGHT\n",
    "    return InfoGain\n",
    "        \n",
    "\n",
    "raw_data = { 'Weather':['Sunny','Sunny','Sunny','Sunny','Rainy','Rainy','Rainy','Rainy'],\n",
    "             'Traffic':['Heavy','Heavy','Light','Light','Heavy','Heavy','Light','Light'],\n",
    "             'AccidentRate':['High','Low','High','Low','High','Low','High','Low'],\n",
    "             'Counts':[17,22,13,31,20,5,12,11]}\n",
    "\n",
    "accident = pd.DataFrame(raw_data, columns = ['Weather', 'Traffic', 'AccidentRate', 'Counts'])\n"
   ]
  },
  {
   "cell_type": "code",
   "execution_count": 569,
   "metadata": {
    "collapsed": false
   },
   "outputs": [
    {
     "name": "stdout",
     "output_type": "stream",
     "text": [
      "Distribution of accident rate at root: 1.00\n"
     ]
    }
   ],
   "source": [
    "#Entropy of AccidentRate\n",
    "total = len(accident)\n",
    "accHigh =  accident.groupby(['AccidentRate']).get_group('High')\n",
    "accLow =  accident.groupby(['AccidentRate']).get_group('Low')\n",
    "p = float(len(accHigh))/total\n",
    "IAccRate = entropy(p)\n",
    "print \"Distribution of accident rate at root: %0.2f\" % (IAccRate)"
   ]
  },
  {
   "cell_type": "code",
   "execution_count": 570,
   "metadata": {
    "collapsed": false
   },
   "outputs": [
    {
     "name": "stdout",
     "output_type": "stream",
     "text": [
      "0.0\n"
     ]
    }
   ],
   "source": [
    "#Splitting according to weather\n",
    "total = len(accident)\n",
    "weaSun =  accident.groupby(['Weather','AccidentRate']).get_group(('Rainy','High'))\n",
    "nweaSun =  accident.groupby(['Weather','AccidentRate']).get_group(('Rainy','Low'))\n",
    "weaRain =  accident.groupby(['Weather','AccidentRate']).get_group(('Sunny','High'))\n",
    "nweaRain =  accident.groupby(['Weather','AccidentRate']).get_group(('Sunny','Low'))\n",
    "#Weather = Heavy Node\n",
    "total = len(weaSun) + len(nweaSun)\n",
    "p_weaSun = float(len(weaSun))/total\n",
    "IWeaSun = entropy(p_weaSun)\n",
    "\n",
    "#Weather = Light Node\n",
    "total = len(weaRain) + len(nweaRain)\n",
    "p_weaRain = float(len(weaRain))/total\n",
    "IWeaRain = entropy(p_weaRain)\n",
    "\n",
    "#Information Gain  - Weather\n",
    "print \"Info Gain from Weather: \" , IG(total,IAccRate,len(weaSun),IWeaSun,len(weaRain),IWeaRain)"
   ]
  },
  {
   "cell_type": "code",
   "execution_count": 571,
   "metadata": {
    "collapsed": false
   },
   "outputs": [
    {
     "name": "stdout",
     "output_type": "stream",
     "text": [
      "0.0\n"
     ]
    }
   ],
   "source": [
    "#Splitting according to Traffic\n",
    "total = len(accident)\n",
    "traffHeavy =  accident.groupby(['Traffic','AccidentRate']).get_group(('Heavy','High'))\n",
    "ntraffHeavy =  accident.groupby(['Traffic','AccidentRate']).get_group(('Heavy','Low'))\n",
    "traffLight =  accident.groupby(['Traffic','AccidentRate']).get_group(('Light','High'))\n",
    "ntraffLight =  accident.groupby(['Traffic','AccidentRate']).get_group(('Light','Low'))\n",
    "\n",
    "#Weather = Heavy Node\n",
    "total = len(traffHeavy) + len(ntraffHeavy)                                   \n",
    "p_traffHeavy = float(len(traffHeavy))/total\n",
    "ItraffHeavy = entropy(p_traffHeavy)\n",
    "\n",
    "#Weather = Light Node\n",
    "total = len(traffLight) + len(ntraffLight)\n",
    "p_traffLight = float(len(traffLight))/total\n",
    "ItraffLight = entropy(p_traffLight)\n",
    "\n",
    "#Information Gain  - Weather\n",
    "IG(total,IAccRate,len(traffHeavy),ItraffHeavy,len(traffLight),ItraffLight)"
   ]
  },
  {
   "cell_type": "code",
   "execution_count": null,
   "metadata": {
    "collapsed": true
   },
   "outputs": [],
   "source": [
    "print \"This assignment has taken too long already. I'm done.\""
   ]
  },
  {
   "cell_type": "markdown",
   "metadata": {},
   "source": [
    "# Problem 3"
   ]
  },
  {
   "cell_type": "markdown",
   "metadata": {},
   "source": [
    "# Part A"
   ]
  },
  {
   "cell_type": "code",
   "execution_count": 334,
   "metadata": {
    "collapsed": false
   },
   "outputs": [],
   "source": [
    "animals = pd.read_csv('Data/zoo.csv')"
   ]
  },
  {
   "cell_type": "code",
   "execution_count": 335,
   "metadata": {
    "collapsed": false
   },
   "outputs": [
    {
     "name": "stdout",
     "output_type": "stream",
     "text": [
      "             precision    recall  f1-score   support\n",
      "\n",
      "        1.0       1.00      1.00      1.00        41\n",
      "        2.0       1.00      1.00      1.00        20\n",
      "        3.0       1.00      1.00      1.00         5\n",
      "        4.0       1.00      1.00      1.00        13\n",
      "        5.0       1.00      1.00      1.00         4\n",
      "        6.0       1.00      1.00      1.00         8\n",
      "        7.0       1.00      1.00      1.00        10\n",
      "\n",
      "avg / total       1.00      1.00      1.00       101\n",
      "\n",
      "[[41  0  0  0  0  0  0]\n",
      " [ 0 20  0  0  0  0  0]\n",
      " [ 0  0  5  0  0  0  0]\n",
      " [ 0  0  0 13  0  0  0]\n",
      " [ 0  0  0  0  4  0  0]\n",
      " [ 0  0  0  0  0  8  0]\n",
      " [ 0  0  0  0  0  0 10]]\n"
     ]
    }
   ],
   "source": [
    "y, X = dmatrices('type ~ hair + feathers + eggs + milk + airborne + aquatic \\\n",
    "                 + predator + toothed + backbone + breathes + venomous + fins \\\n",
    "                 + legs + tail + domestic + catsize',\n",
    "                  animals, return_type=\"dataframe\")\n",
    "\n",
    "y = np.ravel(y)\n",
    "\n",
    "clf = tree.DecisionTreeClassifier()\n",
    "clf = clf.fit(X, y)\n",
    "\n",
    "expected = y\n",
    "predicted = clf.predict(X)\n",
    "\n",
    "print(metrics.classification_report(expected, predicted))\n",
    "print(metrics.confusion_matrix(expected, predicted))"
   ]
  },
  {
   "cell_type": "markdown",
   "metadata": {},
   "source": [
    "# Part B"
   ]
  },
  {
   "cell_type": "code",
   "execution_count": 336,
   "metadata": {
    "collapsed": false
   },
   "outputs": [
    {
     "name": "stdout",
     "output_type": "stream",
     "text": [
      "New animal is predicted as:  [ 4.] , which makes it a Fish.\n"
     ]
    }
   ],
   "source": [
    "#Classification of animal\n",
    "\n",
    "newAnimal = [1.,0.,0.,1.,0.,0.,1.,1.,1.,1.,0.,0.,4.,1.,0.,1.,0.]\n",
    "\n",
    "predictNewAnim = clf.predict([newAnimal])\n",
    "print \"New animal is predicted as: \", predictNewAnim , \", which makes it a Fish.\""
   ]
  },
  {
   "cell_type": "markdown",
   "metadata": {},
   "source": [
    "# Problem 4"
   ]
  },
  {
   "cell_type": "code",
   "execution_count": 337,
   "metadata": {
    "collapsed": false
   },
   "outputs": [
    {
     "name": "stdout",
     "output_type": "stream",
     "text": [
      "N= 0  accuracy: 0.95\n",
      "N= 1  accuracy: 1.00\n",
      "N= 2  accuracy: 0.90\n",
      "N= 3  accuracy: 1.00\n",
      "N= 4  accuracy: 0.95\n",
      "\n",
      "N= 5 fold cross validation accuracy: 0.96 +/- 0.04\n"
     ]
    }
   ],
   "source": [
    "#sklearn.model-selection is not a module I have and I don't have time to figure out how to install right now\n",
    "\n",
    "animals = pd.read_csv('Data/zoo.csv')\n",
    "\n",
    "y, X = dmatrices('type ~ hair + feathers + eggs + milk + airborne + aquatic \\\n",
    "                 + predator + toothed + backbone + breathes + venomous + fins \\\n",
    "                 + legs + tail + domestic + catsize',\n",
    "                  animals, return_type=\"dataframe\")\n",
    "y = np.ravel(y)\n",
    "scores = []\n",
    "\n",
    "#Split 80% Train 20% Test\n",
    "random_seed = int(np.random.rand() *10.0) % 15\n",
    "X_train, X_test, y_train, y_test = train_test_split(X, y, test_size=0.2, random_state=random_seed)\n",
    "\n",
    "#Create Tree/Find accuracy\n",
    "clf = tree.DecisionTreeClassifier()\n",
    "clf = clf.fit(X_train, y_train)\n",
    "scores.append( clf.score(X_test, y_test))\n",
    "\n",
    "##Split 80% Train 20% Test\n",
    "random_seed = int(np.random.rand() *10.0) % 15\n",
    "X_train, X_test, y_train, y_test = train_test_split(X, y, test_size=0.2, random_state=random_seed)\n",
    "\n",
    "#Create Tree/Find accuracy\n",
    "clf = tree.DecisionTreeClassifier()\n",
    "clf = clf.fit(X_train, y_train)\n",
    "scores.append(clf.score(X_test, y_test))\n",
    "\n",
    "##Split 80% Train 20% Test\n",
    "random_seed = int(np.random.rand() *10.0) % 15\n",
    "X_train, X_test, y_train, y_test = train_test_split(X, y, test_size=0.2, random_state=random_seed)\n",
    "\n",
    "#Create Tree/Find accuracy\n",
    "clf = tree.DecisionTreeClassifier()\n",
    "clf = clf.fit(X_train, y_train)\n",
    "scores.append(clf.score(X_test, y_test))\n",
    "\n",
    "##Split 80% Train 20% Test\n",
    "random_seed = int(np.random.rand() *10.0) % 15\n",
    "X_train, X_test, y_train, y_test = train_test_split(X, y, test_size=0.2, random_state=random_seed)\n",
    "\n",
    "#Create Tree/Find accuracy\n",
    "clf = tree.DecisionTreeClassifier()\n",
    "clf = clf.fit(X_train, y_train)\n",
    "scores.append(clf.score(X_test, y_test))\n",
    "\n",
    "##Split 80% Train 20% Test\n",
    "random_seed = int(np.random.rand() *10.0) % 15\n",
    "X_train, X_test, y_train, y_test = train_test_split(X, y, test_size=0.2, random_state=random_seed)\n",
    "\n",
    "#Create Tree/Find accuracy\n",
    "clf = tree.DecisionTreeClassifier()\n",
    "clf = clf.fit(X_train, y_train)\n",
    "scores.append(clf.score(X_test, y_test))\n",
    "for i in range(0,5):\n",
    "    print \"N=\",i,\" accuracy: %0.2f\" % scores[i]\n",
    "print \"\"\n",
    "scores = np.array(scores)\n",
    "print \"N= 5 fold cross validation accuracy: %0.2f +/- %0.2f\" % (scores.mean(), scores.std())\n"
   ]
  },
  {
   "cell_type": "markdown",
   "metadata": {},
   "source": [
    "# Problem 5"
   ]
  },
  {
   "cell_type": "code",
   "execution_count": 339,
   "metadata": {
    "collapsed": false
   },
   "outputs": [
    {
     "name": "stdout",
     "output_type": "stream",
     "text": [
      "N= 0  accuracy: 0.75\n",
      "N= 1  accuracy: 0.89\n",
      "N= 2  accuracy: 0.79\n",
      "N= 3  accuracy: 0.85\n",
      "N= 4  accuracy: 0.80\n",
      "\n",
      "N= 5 fold cross validation accuracy: 0.82 +/- 0.05\n"
     ]
    }
   ],
   "source": [
    "sentinels = {'A1': ['?', '0'], 'A2': ['?', '0'],'A4': ['?', '0'], 'A5': ['?', '0'],'A6': ['?', '0'], 'A7': ['?', '0'],'A14': ['?', '0']}\n",
    "credit = pd.read_csv('Data/credit.csv', na_values=sentinels)\n",
    "\n",
    "credit['A1'] = credit['A1'].replace('a',1)\n",
    "credit['A1'] = credit['A1'].replace('b',2)\n",
    "credit['A4'] = credit['A4'].replace('u',1)\n",
    "credit['A4'] = credit['A4'].replace('y',1)\n",
    "credit['A4'] = credit['A4'].replace('l',3)\n",
    "credit['A4'] = credit['A4'].replace('t',4)\n",
    "credit['A5'] = credit['A5'].replace('g',1)\n",
    "credit['A5'] = credit['A5'].replace('p',2)\n",
    "credit['A5'] = credit['A5'].replace('qq',3)\n",
    "credit['A6'] = credit['A6'].replace('c',1)\n",
    "credit['A6'] = credit['A6'].replace('d',3)\n",
    "credit['A6'] = credit['A6'].replace('cc',3)\n",
    "credit['A6'] = credit['A6'].replace('i',4)\n",
    "credit['A6'] = credit['A6'].replace('j',5)\n",
    "credit['A6'] = credit['A6'].replace('m',6)\n",
    "credit['A6'] = credit['A6'].replace('r',7)\n",
    "credit['A6'] = credit['A6'].replace('q',8)\n",
    "credit['A6'] = credit['A6'].replace('w',9)\n",
    "credit['A6'] = credit['A6'].replace('x',10)\n",
    "credit['A6'] = credit['A6'].replace('e',11)\n",
    "credit['A6'] = credit['A6'].replace('aa',12)\n",
    "credit['A6'] = credit['A6'].replace('ff',13)\n",
    "credit['A6'] = credit['A6'].replace('k',14)\n",
    "\n",
    "credit['A7'] = credit['A7'].replace('v',6)\n",
    "credit['A7'] = credit['A7'].replace('h',7)\n",
    "credit['A7'] = credit['A7'].replace('bb',8)\n",
    "credit['A7'] = credit['A7'].replace('j',9)\n",
    "credit['A7'] = credit['A7'].replace('n',10)\n",
    "credit['A7'] = credit['A7'].replace('z',11)\n",
    "credit['A7'] = credit['A7'].replace('dd',12)\n",
    "credit['A7'] = credit['A7'].replace('ff',13)\n",
    "credit['A7'] = credit['A7'].replace('o',14)\n",
    "\n",
    "credit['A9'] = credit['A9'].replace('t',0)\n",
    "credit['A9'] = credit['A9'].replace('f',1)\n",
    "credit['A10'] = credit['A10'].replace('t',0)\n",
    "credit['A10'] = credit['A10'].replace('f',1)\n",
    "credit['A12'] = credit['A12'].replace('t',0)\n",
    "credit['A12'] = credit['A12'].replace('f',1)\n",
    "\n",
    "credit['A13'] = credit['A13'].replace('g',0)\n",
    "credit['A13'] = credit['A13'].replace('p',1)\n",
    "credit['A13'] = credit['A12'].replace('s',2)\n",
    "credit['A16'] = credit['A16'].replace('+',0.0)\n",
    "credit['A16'] = credit['A16'].replace('-',1.0)\n",
    "credit\n",
    "y, X = dmatrices('A16 ~ A1 + A2 +A3 +A4 + A5 + A6 + A7 + A8 + A9 + A10 \\\n",
    "                +A11 + A12 + A13 + A14 + A15',\n",
    "                  credit, return_type=\"dataframe\")\n",
    "y = np.ravel(y)\n",
    "\n",
    "scores = []\n",
    "\n",
    "#Split 80% Train 20% Test\n",
    "random_seed = int(np.random.rand() *10.0) % 15\n",
    "X_train, X_test, y_train, y_test = train_test_split(X, y, test_size=0.2, random_state=random_seed)\n",
    "\n",
    "#Create Tree/Find accuracy\n",
    "clf = tree.DecisionTreeClassifier()\n",
    "clf = clf.fit(X_train, y_train)\n",
    "scores.append( clf.score(X_test, y_test))\n",
    "\n",
    "##Split 80% Train 20% Test\n",
    "random_seed = int(np.random.rand() *10.0) % 15\n",
    "X_train, X_test, y_train, y_test = train_test_split(X, y, test_size=0.2, random_state=random_seed)\n",
    "\n",
    "#Create Tree/Find accuracy\n",
    "clf = tree.DecisionTreeClassifier()\n",
    "clf = clf.fit(X_train, y_train)\n",
    "scores.append(clf.score(X_test, y_test))\n",
    "\n",
    "##Split 80% Train 20% Test\n",
    "random_seed = int(np.random.rand() *10.0) % 15\n",
    "X_train, X_test, y_train, y_test = train_test_split(X, y, test_size=0.2, random_state=random_seed)\n",
    "\n",
    "#Create Tree/Find accuracy\n",
    "clf = tree.DecisionTreeClassifier()\n",
    "clf = clf.fit(X_train, y_train)\n",
    "scores.append(clf.score(X_test, y_test))\n",
    "\n",
    "##Split 80% Train 20% Test\n",
    "random_seed = int(np.random.rand() *10.0) % 15\n",
    "X_train, X_test, y_train, y_test = train_test_split(X, y, test_size=0.2, random_state=random_seed)\n",
    "\n",
    "#Create Tree/Find accuracy\n",
    "clf = tree.DecisionTreeClassifier()\n",
    "clf = clf.fit(X_train, y_train)\n",
    "scores.append(clf.score(X_test, y_test))\n",
    "\n",
    "##Split 80% Train 20% Test\n",
    "random_seed = int(np.random.rand() *10.0) % 15\n",
    "X_train, X_test, y_train, y_test = train_test_split(X, y, test_size=0.2, random_state=random_seed)\n",
    "\n",
    "#Create Tree/Find accuracy\n",
    "clf = tree.DecisionTreeClassifier()\n",
    "clf = clf.fit(X_train, y_train)\n",
    "scores.append(clf.score(X_test, y_test))\n",
    "for i in range(0,5):\n",
    "    print \"N=\",i,\" accuracy: %0.2f\" % scores[i]\n",
    "print \"\"\n",
    "scores = np.array(scores)\n",
    "print \"N= 5 fold cross validation accuracy: %0.2f +/- %0.2f\" % (scores.mean(), scores.std())\n"
   ]
  },
  {
   "cell_type": "code",
   "execution_count": null,
   "metadata": {
    "collapsed": true
   },
   "outputs": [],
   "source": []
  }
 ],
 "metadata": {
  "anaconda-cloud": {},
  "kernelspec": {
   "display_name": "Python [Root]",
   "language": "python",
   "name": "Python [Root]"
  },
  "language_info": {
   "codemirror_mode": {
    "name": "ipython",
    "version": 2
   },
   "file_extension": ".py",
   "mimetype": "text/x-python",
   "name": "python",
   "nbconvert_exporter": "python",
   "pygments_lexer": "ipython2",
   "version": "2.7.12"
  }
 },
 "nbformat": 4,
 "nbformat_minor": 1
}
