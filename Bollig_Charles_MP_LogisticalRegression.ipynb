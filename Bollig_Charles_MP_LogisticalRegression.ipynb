{
 "cells": [
  {
   "cell_type": "code",
   "execution_count": 4,
   "metadata": {
    "collapsed": false
   },
   "outputs": [
    {
     "name": "stdout",
     "output_type": "stream",
     "text": [
      "\n",
      "Mean of score for mathematics: \t\t10.4151898734\n",
      "Std deviation score for mathematics: \t4.581442611 \n",
      "\n",
      "High achievement will be described as a score of >=15\n",
      "Low achievement will be described as a score of <=6\n"
     ]
    },
    {
     "data": {
      "text/plain": [
       "<matplotlib.text.Text at 0x10a29c2d0>"
      ]
     },
     "execution_count": 4,
     "metadata": {},
     "output_type": "execute_result"
    },
    {
     "data": {
      "image/png": "[encoded data removed]",
      "text/plain": [
       "<matplotlib.figure.Figure at 0x1173a1610>"
      ]
     },
     "metadata": {},
     "output_type": "display_data"
    }
   ],
   "source": [
    "#ML_PROG_LogisticRegression Homework \n",
    "\n",
    "'''\n",
    "Source:\n",
    "http://archive.ics.uci.edu/ml/datasets/Student+Performance#\n",
    "\n",
    "\n",
    "'This data approach student achievement in secondary education of two Portuguese schools. The data attributes include student grades, \n",
    "demographic, social and school related features) and it was collected by using school reports and questionnaires. Two datasets are \n",
    "provided regarding the performance in two distinct subjects: Mathematics (mat) and Portuguese language (por).'\n",
    "\n",
    "Using data from this data set, I will attempt to build a model that will predict high student \n",
    "achievement and low student achievement based on dependent variable(target):\n",
    "\n",
    "G3 - final grade (mathematics) (numeric: from 0 to 20, output target) - \n",
    "(High achievement being G3 > 15.0, given mean is 10.415, std deviation is 4.58)\n",
    "\n",
    "And independent variables(attributes):\n",
    "\n",
    "4 address - student's home address type (binary: 'U' - urban or 'R' - rural) \n",
    "5 famsize - family size (binary: 'LE3' - less or equal to 3 or 'GT3' - greater than 3) \n",
    "7 Medu - mother's education (numeric: 0 - none, 1 - primary education (4th grade), 2 â€“ 5th to 9th grade, 3 â€“ secondary education or 4 â€“ higher education) \n",
    "8 Fedu - father's education (numeric: 0 - none, 1 - primary education (4th grade), 2 â€“ 5th to 9th grade, 3 â€“ secondary education or 4 â€“ higher education)\n",
    "16 schoolsup - extra educational support (binary: yes or no) \n",
    "17 famsup - family educational support (binary: yes or no) \n",
    "18 paid - extra paid classes within the course subject (Math or Portuguese) (binary: yes or no) \n",
    "24 famrel - quality of family relationships (numeric: from 1 - very bad to 5 - excellent) \n",
    "\n",
    "Index is given as the school the students attend: 'GP' or 'MS'\n",
    "\n",
    "This data set was chosen because there is much research that goes into improving student\n",
    "performance, but many claim that student performance is closely related\n",
    "to parent educational history and the student's family situation, i.e. rural areas being \n",
    "poorer with less access to educational resources, duties in taking care of other familiy\n",
    "members in large families taking time from studying, whether or not the family can provide\n",
    "education support (financially or otherwise), and quality of relationship with family. \n",
    "\n",
    "Educational support from the school is thought to offset these factors, so we will include it\n",
    "to see if it makes a difference.\n",
    "\n",
    "NOTE:   'yes' corrected to 1\n",
    "        'no' corrrected to 0\n",
    "        'GT3' corrected to 1\n",
    "        'LE3' corrrected to 0\n",
    "        'U' corrected to 1\n",
    "        'R' corrrected to 0\n",
    "        \n",
    "'''\n",
    "import numpy as np\n",
    "import pandas as pd\n",
    "import statsmodels.api as sm\n",
    "import matplotlib.pyplot as plt\n",
    "from patsy import dmatrices\n",
    "from sklearn.linear_model import LogisticRegression\n",
    "from sklearn.cross_validation import train_test_split\n",
    "from sklearn import metrics\n",
    "from sklearn.cross_validation import cross_val_score\n",
    "from sklearn.multiclass import OneVsRestClassifier\n",
    "\n",
    "# read data into a DataFrame\n",
    "data = pd.read_csv('student-mat.csv', delimiter=\";\", \n",
    "                usecols= ('G3','address','famsize','Medu','Fedu','schoolsup','famsup','paid','famrel'),\n",
    "                index_col = False)\n",
    "\n",
    "#print \"Original data set: \"\n",
    "#print data\n",
    "\n",
    "data = data.sort_values(['G3'], ascending = True)\n",
    "\n",
    "\n",
    "#Massage the data to convert strings to ints\n",
    "data['famsize'] = data['famsize'].replace('GT3',1)\n",
    "data['famsize'] = data['famsize'].replace('LE3',0)\n",
    "data['address'] = data['address'].replace('U',1)\n",
    "data['address'] = data['address'].replace('R',0)\n",
    "data['schoolsup'] = data['schoolsup'].replace('yes',1)\n",
    "data['schoolsup'] = data['schoolsup'].replace('no',0)\n",
    "data['famsup'] = data['famsup'].replace('yes',1)\n",
    "data['famsup'] = data['famsup'].replace('no',0)\n",
    "data['paid'] = data['paid'].replace('yes',1)\n",
    "data['paid'] = data['paid'].replace('no',0)\n",
    "\n",
    "\n",
    "#print \"Modified data set: \"\n",
    "#print data\n",
    "print \"\\nMean of score for mathematics: \\t\\t\" ,data['G3'].mean()\n",
    "print \"Std deviation score for mathematics: \\t\" , data['G3'].std(), \"\\n\"\n",
    "print \"High achievement will be described as a score of >=15\"\n",
    "print \"Low achievement will be described as a score of <=6\"\n",
    "\n",
    "\n",
    "\n",
    "\n",
    "# histogram scores\n",
    "%matplotlib inline\n",
    "data.G3.hist()\n",
    "#data.plot(y= 'G3', use_index = True )\n",
    "#data.plot(kind='scatter', x='X2', y='X1', ax=axs[0], color = \"red\")\n",
    "plt.title('Histogram of Mathematics Score')\n",
    "plt.xlabel('Test Score')\n",
    "plt.ylabel('Number of Students')\n",
    "\n",
    "\n"
   ]
  },
  {
   "cell_type": "markdown",
   "metadata": {},
   "source": [
    "# Preparing Data (High Achievement)"
   ]
  },
  {
   "cell_type": "code",
   "execution_count": 5,
   "metadata": {
    "collapsed": false,
    "scrolled": true
   },
   "outputs": [
    {
     "data": {
      "text/html": [
       "<div>\n",
       "<table border=\"1\" class=\"dataframe\">\n",
       "  <thead>\n",
       "    <tr style=\"text-align: right;\">\n",
       "      <th></th>\n",
       "      <th>address</th>\n",
       "      <th>famsize</th>\n",
       "      <th>Medu</th>\n",
       "      <th>Fedu</th>\n",
       "      <th>schoolsup</th>\n",
       "      <th>famsup</th>\n",
       "      <th>paid</th>\n",
       "      <th>famrel</th>\n",
       "      <th>G3</th>\n",
       "    </tr>\n",
       "    <tr>\n",
       "      <th>high_achievement</th>\n",
       "      <th></th>\n",
       "      <th></th>\n",
       "      <th></th>\n",
       "      <th></th>\n",
       "      <th></th>\n",
       "      <th></th>\n",
       "      <th></th>\n",
       "      <th></th>\n",
       "      <th></th>\n",
       "    </tr>\n",
       "  </thead>\n",
       "  <tbody>\n",
       "    <tr>\n",
       "      <th>0</th>\n",
       "      <td>0.757764</td>\n",
       "      <td>0.720497</td>\n",
       "      <td>2.642857</td>\n",
       "      <td>2.462733</td>\n",
       "      <td>0.152174</td>\n",
       "      <td>0.621118</td>\n",
       "      <td>0.462733</td>\n",
       "      <td>3.928571</td>\n",
       "      <td>9.099379</td>\n",
       "    </tr>\n",
       "    <tr>\n",
       "      <th>1</th>\n",
       "      <td>0.863014</td>\n",
       "      <td>0.671233</td>\n",
       "      <td>3.219178</td>\n",
       "      <td>2.780822</td>\n",
       "      <td>0.027397</td>\n",
       "      <td>0.575342</td>\n",
       "      <td>0.438356</td>\n",
       "      <td>4.013699</td>\n",
       "      <td>16.219178</td>\n",
       "    </tr>\n",
       "  </tbody>\n",
       "</table>\n",
       "</div>"
      ],
      "text/plain": [
       "                   address   famsize      Medu      Fedu  schoolsup    famsup  \\\n",
       "high_achievement                                                                \n",
       "0                 0.757764  0.720497  2.642857  2.462733   0.152174  0.621118   \n",
       "1                 0.863014  0.671233  3.219178  2.780822   0.027397  0.575342   \n",
       "\n",
       "                      paid    famrel         G3  \n",
       "high_achievement                                 \n",
       "0                 0.462733  3.928571   9.099379  \n",
       "1                 0.438356  4.013699  16.219178  "
      ]
     },
     "execution_count": 5,
     "metadata": {},
     "output_type": "execute_result"
    }
   ],
   "source": [
    "data['high_achievement'] = (data.G3 >= 15.0).astype(int)\n",
    "data.groupby('high_achievement').mean()\n"
   ]
  },
  {
   "cell_type": "markdown",
   "metadata": {},
   "source": [
    "# Logistic Regression (High Achievement) Accuracy and Error Rate"
   ]
  },
  {
   "cell_type": "code",
   "execution_count": 6,
   "metadata": {
    "collapsed": false
   },
   "outputs": [
    {
     "name": "stdout",
     "output_type": "stream",
     "text": [
      "Accuracy of the model to predict high achievement:  0.815189873418\n",
      "Null Error rate:  0.184810126582\n"
     ]
    }
   ],
   "source": [
    "y, X = dmatrices('high_achievement ~ address + famsize + Medu + Fedu + schoolsup + famsup \\\n",
    "                 + paid + famrel',\n",
    "                  data, return_type=\"dataframe\")\n",
    "y = np.ravel(y)\n",
    "# instantiate a logistic regression model, and fit with X and y\n",
    "model = LogisticRegression()\n",
    "model = model.fit(X, y)\n",
    "\n",
    "# check the accuracy on the training set\n",
    "print \"Accuracy of the model to predict high achievement: \" , model.score(X, y)\n",
    "print \"Null Error rate: \" , y.mean()"
   ]
  },
  {
   "cell_type": "markdown",
   "metadata": {},
   "source": [
    "# Examining Coefficients (High Achievement)"
   ]
  },
  {
   "cell_type": "code",
   "execution_count": 7,
   "metadata": {
    "collapsed": false
   },
   "outputs": [
    {
     "data": {
      "text/html": [
       "<div>\n",
       "<table border=\"1\" class=\"dataframe\">\n",
       "  <thead>\n",
       "    <tr style=\"text-align: right;\">\n",
       "      <th></th>\n",
       "      <th>0</th>\n",
       "      <th>1</th>\n",
       "    </tr>\n",
       "  </thead>\n",
       "  <tbody>\n",
       "    <tr>\n",
       "      <th>0</th>\n",
       "      <td>Intercept</td>\n",
       "      <td>[-1.30012524416]</td>\n",
       "    </tr>\n",
       "    <tr>\n",
       "      <th>1</th>\n",
       "      <td>address</td>\n",
       "      <td>[0.392039558354]</td>\n",
       "    </tr>\n",
       "    <tr>\n",
       "      <th>2</th>\n",
       "      <td>famsize</td>\n",
       "      <td>[-0.250146735398]</td>\n",
       "    </tr>\n",
       "    <tr>\n",
       "      <th>3</th>\n",
       "      <td>Medu</td>\n",
       "      <td>[0.497132221145]</td>\n",
       "    </tr>\n",
       "    <tr>\n",
       "      <th>4</th>\n",
       "      <td>Fedu</td>\n",
       "      <td>[-0.0224639351715]</td>\n",
       "    </tr>\n",
       "    <tr>\n",
       "      <th>5</th>\n",
       "      <td>schoolsup</td>\n",
       "      <td>[-1.2859175765]</td>\n",
       "    </tr>\n",
       "    <tr>\n",
       "      <th>6</th>\n",
       "      <td>famsup</td>\n",
       "      <td>[-0.264121539175]</td>\n",
       "    </tr>\n",
       "    <tr>\n",
       "      <th>7</th>\n",
       "      <td>paid</td>\n",
       "      <td>[-0.270140076642]</td>\n",
       "    </tr>\n",
       "    <tr>\n",
       "      <th>8</th>\n",
       "      <td>famrel</td>\n",
       "      <td>[-0.00115531897206]</td>\n",
       "    </tr>\n",
       "  </tbody>\n",
       "</table>\n",
       "</div>"
      ],
      "text/plain": [
       "           0                    1\n",
       "0  Intercept     [-1.30012524416]\n",
       "1    address     [0.392039558354]\n",
       "2    famsize    [-0.250146735398]\n",
       "3       Medu     [0.497132221145]\n",
       "4       Fedu   [-0.0224639351715]\n",
       "5  schoolsup      [-1.2859175765]\n",
       "6     famsup    [-0.264121539175]\n",
       "7       paid    [-0.270140076642]\n",
       "8     famrel  [-0.00115531897206]"
      ]
     },
     "execution_count": 7,
     "metadata": {},
     "output_type": "execute_result"
    }
   ],
   "source": [
    "# examine the coefficients\n",
    "pd.DataFrame(zip(X.columns, np.transpose(model.coef_)))"
   ]
  },
  {
   "cell_type": "markdown",
   "metadata": {},
   "source": [
    "# Model Evaluation with Training/Test Set (High Achievement)"
   ]
  },
  {
   "cell_type": "markdown",
   "metadata": {},
   "source": [
    "# Training Set"
   ]
  },
  {
   "cell_type": "code",
   "execution_count": 8,
   "metadata": {
    "collapsed": false
   },
   "outputs": [],
   "source": [
    "# evaluate the model by splitting into train and test sets\n",
    "X_train, X_test, y_train, y_test = train_test_split(X, y, test_size=0.5, random_state=0)\n",
    "model2 = LogisticRegression();\n",
    "model2.fit(X_train, y_train);"
   ]
  },
  {
   "cell_type": "markdown",
   "metadata": {},
   "source": [
    "# Test Set"
   ]
  },
  {
   "cell_type": "code",
   "execution_count": 9,
   "metadata": {
    "collapsed": false
   },
   "outputs": [],
   "source": [
    "# predict class labels for the test set\n",
    "predicted = model2.predict(X_test);\n",
    "#print predicted\n",
    "# generate class probabilities\n",
    "probs = model2.predict_proba(X_test)\n",
    "#print probs"
   ]
  },
  {
   "cell_type": "markdown",
   "metadata": {},
   "source": [
    "# ROC and Area Under the Curve"
   ]
  },
  {
   "cell_type": "code",
   "execution_count": 10,
   "metadata": {
    "collapsed": false
   },
   "outputs": [
    {
     "name": "stdout",
     "output_type": "stream",
     "text": [
      "Accuracy Score:  0.808080808081\n",
      "ROC curve: \t0.591820987654\n"
     ]
    }
   ],
   "source": [
    "# generate evaluation metrics\n",
    "print \"Accuracy Score: \", metrics.accuracy_score(y_test, predicted)\n",
    "print \"ROC curve: \\t\", metrics.roc_auc_score(y_test, probs[:, 1])"
   ]
  },
  {
   "cell_type": "code",
   "execution_count": 11,
   "metadata": {
    "collapsed": false
   },
   "outputs": [
    {
     "name": "stdout",
     "output_type": "stream",
     "text": [
      "[[160   2]\n",
      " [ 36   0]]\n",
      "             precision    recall  f1-score   support\n",
      "\n",
      "        0.0       0.82      0.99      0.89       162\n",
      "        1.0       0.00      0.00      0.00        36\n",
      "\n",
      "avg / total       0.67      0.81      0.73       198\n",
      "\n"
     ]
    }
   ],
   "source": [
    "print metrics.confusion_matrix(y_test, predicted)\n",
    "print metrics.classification_report(y_test, predicted)"
   ]
  },
  {
   "cell_type": "markdown",
   "metadata": {},
   "source": [
    "# Prediciting Probability of High Achievement with New Data Points"
   ]
  },
  {
   "cell_type": "code",
   "execution_count": 12,
   "metadata": {
    "collapsed": false
   },
   "outputs": [
    {
     "name": "stdout",
     "output_type": "stream",
     "text": [
      "Given an urban student, with <3 family members, mother and father with high education, family supplemental aid and great family relationships, there is a  0.24894015017 % chance that the student will be high achieving.\n"
     ]
    }
   ],
   "source": [
    "X_pred = np.array([1,1,0,4,4,0,1,1,5]) #This represent a student's family situation\n",
    "stu_prediction =  model2.predict_proba(X_pred.reshape(1,-1))\n",
    "print \"Given an urban student, with <3 family members, mother and father with high education, \"\\\n",
    "    \"family supplemental aid and great family relationships, there is a \", stu_prediction.item(1), \\\n",
    "    \"% chance that the student will be high achieving.\""
   ]
  },
  {
   "cell_type": "markdown",
   "metadata": {},
   "source": [
    "# Cross Validation High Achievement"
   ]
  },
  {
   "cell_type": "code",
   "execution_count": 13,
   "metadata": {
    "collapsed": false
   },
   "outputs": [
    {
     "name": "stdout",
     "output_type": "stream",
     "text": [
      "High Achievement model working with  0.815334584115 % accuracy.\n"
     ]
    }
   ],
   "source": [
    "# evaluate the model using 10-fold cross-validation\n",
    "scores = cross_val_score(LogisticRegression(), X, y, scoring='accuracy', cv=10)\n",
    "print \"High Achievement model working with \" ,scores.mean(), \"% accuracy.\""
   ]
  },
  {
   "cell_type": "markdown",
   "metadata": {},
   "source": [
    "#  Preparing Data (Low Achievement)"
   ]
  },
  {
   "cell_type": "code",
   "execution_count": 14,
   "metadata": {
    "collapsed": false,
    "scrolled": false
   },
   "outputs": [
    {
     "data": {
      "text/html": [
       "<div>\n",
       "<table border=\"1\" class=\"dataframe\">\n",
       "  <thead>\n",
       "    <tr style=\"text-align: right;\">\n",
       "      <th></th>\n",
       "      <th>address</th>\n",
       "      <th>famsize</th>\n",
       "      <th>Medu</th>\n",
       "      <th>Fedu</th>\n",
       "      <th>schoolsup</th>\n",
       "      <th>famsup</th>\n",
       "      <th>paid</th>\n",
       "      <th>famrel</th>\n",
       "      <th>G3</th>\n",
       "    </tr>\n",
       "    <tr>\n",
       "      <th>low_achievement</th>\n",
       "      <th></th>\n",
       "      <th></th>\n",
       "      <th></th>\n",
       "      <th></th>\n",
       "      <th></th>\n",
       "      <th></th>\n",
       "      <th></th>\n",
       "      <th></th>\n",
       "      <th></th>\n",
       "    </tr>\n",
       "  </thead>\n",
       "  <tbody>\n",
       "    <tr>\n",
       "      <th>0</th>\n",
       "      <td>0.787425</td>\n",
       "      <td>0.697605</td>\n",
       "      <td>2.796407</td>\n",
       "      <td>2.556886</td>\n",
       "      <td>0.125749</td>\n",
       "      <td>0.601796</td>\n",
       "      <td>0.491018</td>\n",
       "      <td>3.961078</td>\n",
       "      <td>11.931138</td>\n",
       "    </tr>\n",
       "    <tr>\n",
       "      <th>1</th>\n",
       "      <td>0.721311</td>\n",
       "      <td>0.786885</td>\n",
       "      <td>2.491803</td>\n",
       "      <td>2.327869</td>\n",
       "      <td>0.147541</td>\n",
       "      <td>0.672131</td>\n",
       "      <td>0.278689</td>\n",
       "      <td>3.852459</td>\n",
       "      <td>2.114754</td>\n",
       "    </tr>\n",
       "  </tbody>\n",
       "</table>\n",
       "</div>"
      ],
      "text/plain": [
       "                  address   famsize      Medu      Fedu  schoolsup    famsup  \\\n",
       "low_achievement                                                                \n",
       "0                0.787425  0.697605  2.796407  2.556886   0.125749  0.601796   \n",
       "1                0.721311  0.786885  2.491803  2.327869   0.147541  0.672131   \n",
       "\n",
       "                     paid    famrel         G3  \n",
       "low_achievement                                 \n",
       "0                0.491018  3.961078  11.931138  \n",
       "1                0.278689  3.852459   2.114754  "
      ]
     },
     "execution_count": 14,
     "metadata": {},
     "output_type": "execute_result"
    }
   ],
   "source": [
    "data.drop('high_achievement', axis=1, inplace=True)\n",
    "data['low_achievement'] = (data.G3 <= 6.0).astype(int)\n",
    "data.groupby('low_achievement').mean()\n",
    "\n"
   ]
  },
  {
   "cell_type": "markdown",
   "metadata": {},
   "source": [
    "# Logistic Regression (Low Achievement) Accuracy and Error Rate"
   ]
  },
  {
   "cell_type": "code",
   "execution_count": 424,
   "metadata": {
    "collapsed": false
   },
   "outputs": [
    {
     "name": "stdout",
     "output_type": "stream",
     "text": [
      "Accuracy of the model to predict low achievement:  0.845569620253\n",
      "Null Error rate:  0.154430379747\n"
     ]
    }
   ],
   "source": [
    "y, X = dmatrices('low_achievement ~ address + famsize + Medu + Fedu + schoolsup + famsup \\\n",
    "                 + paid + famrel',\n",
    "                  data, return_type=\"dataframe\")\n",
    "y = np.ravel(y)\n",
    "# instantiate a logistic regression model, and fit with X and y\n",
    "model = LogisticRegression()\n",
    "model = model.fit(X, y)\n",
    "\n",
    "# check the accuracy on the training set\n",
    "print \"Accuracy of the model to predict low achievement: \" , model.score(X, y)\n",
    "print \"Null Error rate: \" , y.mean()"
   ]
  },
  {
   "cell_type": "markdown",
   "metadata": {},
   "source": [
    "# Examining Coefficients (Low Achievement)"
   ]
  },
  {
   "cell_type": "code",
   "execution_count": 425,
   "metadata": {
    "collapsed": false
   },
   "outputs": [
    {
     "data": {
      "text/html": [
       "<div>\n",
       "<table border=\"1\" class=\"dataframe\">\n",
       "  <thead>\n",
       "    <tr style=\"text-align: right;\">\n",
       "      <th></th>\n",
       "      <th>0</th>\n",
       "      <th>1</th>\n",
       "    </tr>\n",
       "  </thead>\n",
       "  <tbody>\n",
       "    <tr>\n",
       "      <th>0</th>\n",
       "      <td>Intercept</td>\n",
       "      <td>[-0.250292539929]</td>\n",
       "    </tr>\n",
       "    <tr>\n",
       "      <th>1</th>\n",
       "      <td>address</td>\n",
       "      <td>[-0.196983696119]</td>\n",
       "    </tr>\n",
       "    <tr>\n",
       "      <th>2</th>\n",
       "      <td>famsize</td>\n",
       "      <td>[0.400234469571]</td>\n",
       "    </tr>\n",
       "    <tr>\n",
       "      <th>3</th>\n",
       "      <td>Medu</td>\n",
       "      <td>[-0.190672861148]</td>\n",
       "    </tr>\n",
       "    <tr>\n",
       "      <th>4</th>\n",
       "      <td>Fedu</td>\n",
       "      <td>[-0.106961807095]</td>\n",
       "    </tr>\n",
       "    <tr>\n",
       "      <th>5</th>\n",
       "      <td>schoolsup</td>\n",
       "      <td>[0.0611573678507]</td>\n",
       "    </tr>\n",
       "    <tr>\n",
       "      <th>6</th>\n",
       "      <td>famsup</td>\n",
       "      <td>[0.599147503863]</td>\n",
       "    </tr>\n",
       "    <tr>\n",
       "      <th>7</th>\n",
       "      <td>paid</td>\n",
       "      <td>[-0.932817200179]</td>\n",
       "    </tr>\n",
       "    <tr>\n",
       "      <th>8</th>\n",
       "      <td>famrel</td>\n",
       "      <td>[-0.154430235531]</td>\n",
       "    </tr>\n",
       "  </tbody>\n",
       "</table>\n",
       "</div>"
      ],
      "text/plain": [
       "           0                  1\n",
       "0  Intercept  [-0.250292539929]\n",
       "1    address  [-0.196983696119]\n",
       "2    famsize   [0.400234469571]\n",
       "3       Medu  [-0.190672861148]\n",
       "4       Fedu  [-0.106961807095]\n",
       "5  schoolsup  [0.0611573678507]\n",
       "6     famsup   [0.599147503863]\n",
       "7       paid  [-0.932817200179]\n",
       "8     famrel  [-0.154430235531]"
      ]
     },
     "execution_count": 425,
     "metadata": {},
     "output_type": "execute_result"
    }
   ],
   "source": [
    "# examine the coefficients\n",
    "pd.DataFrame(zip(X.columns, np.transpose(model.coef_)))"
   ]
  },
  {
   "cell_type": "markdown",
   "metadata": {},
   "source": [
    "# Model Evaluation with Training/Test Set (Low Achievement)"
   ]
  },
  {
   "cell_type": "markdown",
   "metadata": {},
   "source": [
    "# Training Set"
   ]
  },
  {
   "cell_type": "code",
   "execution_count": 426,
   "metadata": {
    "collapsed": true
   },
   "outputs": [],
   "source": [
    "# evaluate the model by splitting into train and test sets\n",
    "X_train, X_test, y_train, y_test = train_test_split(X, y, test_size=0.5, random_state=0)\n",
    "model2 = LogisticRegression();\n",
    "model2.fit(X_train, y_train);"
   ]
  },
  {
   "cell_type": "markdown",
   "metadata": {},
   "source": [
    "# Test Set"
   ]
  },
  {
   "cell_type": "code",
   "execution_count": 427,
   "metadata": {
    "collapsed": true
   },
   "outputs": [],
   "source": [
    "# predict class labels for the test set\n",
    "predicted = model2.predict(X_test);\n",
    "#print predicted\n",
    "# generate class probabilities\n",
    "probs = model2.predict_proba(X_test)\n",
    "#print probs"
   ]
  },
  {
   "cell_type": "markdown",
   "metadata": {},
   "source": [
    "# ROC and Area Under the Curve"
   ]
  },
  {
   "cell_type": "code",
   "execution_count": 428,
   "metadata": {
    "collapsed": false
   },
   "outputs": [
    {
     "name": "stdout",
     "output_type": "stream",
     "text": [
      "Accuracy Score:  0.848484848485\n",
      "ROC curve: \t0.59375\n"
     ]
    }
   ],
   "source": [
    "# generate evaluation metrics\n",
    "print \"Accuracy Score: \", metrics.accuracy_score(y_test, predicted)\n",
    "print \"ROC curve: \\t\", metrics.roc_auc_score(y_test, probs[:, 1])"
   ]
  },
  {
   "cell_type": "code",
   "execution_count": 429,
   "metadata": {
    "collapsed": false
   },
   "outputs": [
    {
     "name": "stdout",
     "output_type": "stream",
     "text": [
      "[[168   0]\n",
      " [ 30   0]]\n",
      "             precision    recall  f1-score   support\n",
      "\n",
      "        0.0       0.85      1.00      0.92       168\n",
      "        1.0       0.00      0.00      0.00        30\n",
      "\n",
      "avg / total       0.72      0.85      0.78       198\n",
      "\n"
     ]
    }
   ],
   "source": [
    "print metrics.confusion_matrix(y_test, predicted)\n",
    "print metrics.classification_report(y_test, predicted)"
   ]
  },
  {
   "cell_type": "markdown",
   "metadata": {},
   "source": [
    "# Predicting Probability of Low Achievement with New Data Points"
   ]
  },
  {
   "cell_type": "code",
   "execution_count": 430,
   "metadata": {
    "collapsed": false
   },
   "outputs": [
    {
     "name": "stdout",
     "output_type": "stream",
     "text": [
      "Given a rural student, with 3+ family members, mother and father with basic education, no supplemental aid and bad family relationships, there is a  0.25908554852 % chance that the student will be low achieving.\n"
     ]
    }
   ],
   "source": [
    "X_pred = np.array([1,0,1,1,1,0,0,0,1]) #This represent a student's family situation\n",
    "stu_prediction =  model2.predict_proba(X_pred.reshape(1,-1))\n",
    "print \"Given a rural student, with 3+ family members, mother and father with basic education, \"\\\n",
    "    \"no supplemental aid and bad family relationships, there is a \", stu_prediction.item(1), \\\n",
    "    \"% chance that the student will be low achieving.\""
   ]
  },
  {
   "cell_type": "markdown",
   "metadata": {},
   "source": [
    "# Cross Validation (Low Achievement)"
   ]
  },
  {
   "cell_type": "code",
   "execution_count": 431,
   "metadata": {
    "collapsed": false
   },
   "outputs": [
    {
     "name": "stdout",
     "output_type": "stream",
     "text": [
      "Low Achievement model working with  0.845619136961 % accuracy.\n"
     ]
    }
   ],
   "source": [
    "# evaluate the model using 10-fold cross-validation\n",
    "scores = cross_val_score(LogisticRegression(), X, y, scoring='accuracy', cv=10)\n",
    "print \"Low Achievement model working with \" ,scores.mean(), \"% accuracy.\""
   ]
  }
 ],
 "metadata": {
  "anaconda-cloud": {},
  "kernelspec": {
   "display_name": "Python [Root]",
   "language": "python",
   "name": "Python [Root]"
  },
  "language_info": {
   "codemirror_mode": {
    "name": "ipython",
    "version": 2
   },
   "file_extension": ".py",
   "mimetype": "text/x-python",
   "name": "python",
   "nbconvert_exporter": "python",
   "pygments_lexer": "ipython2",
   "version": "2.7.12"
  }
 },
 "nbformat": 4,
 "nbformat_minor": 0
}
